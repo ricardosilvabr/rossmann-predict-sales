{
 "cells": [
  {
   "cell_type": "markdown",
   "id": "19a05cf3-d9a2-4688-b625-f4f33aecdb9b",
   "metadata": {},
   "source": [
    "# IMPORTS"
   ]
  },
  {
   "cell_type": "code",
   "execution_count": 1,
   "id": "9c689760",
   "metadata": {
    "ExecuteTime": {
     "end_time": "2023-05-25T15:20:19.345299Z",
     "start_time": "2023-05-25T15:20:18.033910Z"
    }
   },
   "outputs": [],
   "source": [
    "import pandas  as pd\n",
    "import numpy   as np\n",
    "import inflection\n",
    "import seaborn as sns\n",
    "import math\n",
    "import warnings\n",
    "\n",
    "from matplotlib            import pyplot as plt\n",
    "from IPython.display       import Image\n",
    "from IPython.core.display  import HTML\n",
    "\n",
    "warnings.filterwarnings( 'ignore' )"
   ]
  },
  {
   "cell_type": "markdown",
   "id": "63289e95",
   "metadata": {},
   "source": [
    "## Helper Functions"
   ]
  },
  {
   "cell_type": "code",
   "execution_count": 2,
   "id": "29de3422",
   "metadata": {
    "ExecuteTime": {
     "end_time": "2023-05-25T15:20:20.970193Z",
     "start_time": "2023-05-25T15:20:20.931181Z"
    }
   },
   "outputs": [
    {
     "name": "stdout",
     "output_type": "stream",
     "text": [
      "%pylab is deprecated, use %matplotlib inline and import the required libraries.\n",
      "Populating the interactive namespace from numpy and matplotlib\n"
     ]
    },
    {
     "data": {
      "text/html": [
       "<style>.container { width:100% !important; }</style>"
      ],
      "text/plain": [
       "<IPython.core.display.HTML object>"
      ]
     },
     "metadata": {},
     "output_type": "display_data"
    }
   ],
   "source": [
    "def jupyter_settings():\n",
    "    %matplotlib inline\n",
    "    %pylab inline\n",
    "    \n",
    "    plt.style.use( 'bmh' )\n",
    "    plt.rcParams['figure.figsize'] = [25, 12]\n",
    "    plt.rcParams['font.size'] = 24\n",
    "    \n",
    "    display( HTML( '<style>.container { width:100% !important; }</style>') )\n",
    "    pd.options.display.max_columns = None\n",
    "    pd.options.display.max_rows = None\n",
    "    pd.set_option( 'display.expand_frame_repr', False )\n",
    "    \n",
    "    sns.set()\n",
    "jupyter_settings()"
   ]
  },
  {
   "cell_type": "code",
   "execution_count": null,
   "id": "fe1842f5",
   "metadata": {},
   "outputs": [],
   "source": []
  },
  {
   "cell_type": "markdown",
   "id": "cd19722f",
   "metadata": {},
   "source": [
    "## Loading Data"
   ]
  },
  {
   "cell_type": "code",
   "execution_count": 3,
   "id": "a2771da3",
   "metadata": {
    "ExecuteTime": {
     "end_time": "2023-05-25T15:14:19.958366Z",
     "start_time": "2023-05-25T15:14:18.645664Z"
    }
   },
   "outputs": [],
   "source": [
    "df_sales_raw = pd.read_csv( '../dados/train.csv', low_memory=False )\n",
    "df_store_raw = pd.read_csv( '../dados/store.csv', low_memory=False )\n",
    "\n",
    "# Merge\n",
    "df_raw = pd.merge( df_sales_raw, df_store_raw, how='left', on='Store' )"
   ]
  },
  {
   "cell_type": "markdown",
   "id": "e1180906-733f-434c-8f58-5bdc8e71a7df",
   "metadata": {},
   "source": [
    "## Refs"
   ]
  },
  {
   "cell_type": "markdown",
   "id": "4d1278e4-e509-4c4d-8c51-35f664581de5",
   "metadata": {},
   "source": [
    "1. https://stackoverflow.com/questions/2600775/how-to-get-week-number-in-python em 3.3"
   ]
  },
  {
   "cell_type": "code",
   "execution_count": null,
   "id": "f2eab232-d3d8-43fb-ad22-126a04eed05f",
   "metadata": {},
   "outputs": [],
   "source": []
  },
  {
   "cell_type": "markdown",
   "id": "b7696bdb",
   "metadata": {},
   "source": [
    "# DESCRIÇÃO DOS DADOS"
   ]
  },
  {
   "cell_type": "code",
   "execution_count": 4,
   "id": "fb182e28",
   "metadata": {
    "ExecuteTime": {
     "end_time": "2023-05-25T15:14:23.554856Z",
     "start_time": "2023-05-25T15:14:23.176128Z"
    }
   },
   "outputs": [],
   "source": [
    "df1 = df_raw.copy()"
   ]
  },
  {
   "cell_type": "markdown",
   "id": "c0c0e064",
   "metadata": {},
   "source": [
    "## Rename Columns"
   ]
  },
  {
   "cell_type": "code",
   "execution_count": 5,
   "id": "5acca025",
   "metadata": {
    "ExecuteTime": {
     "end_time": "2023-05-25T15:14:27.603033Z",
     "start_time": "2023-05-25T15:14:27.592879Z"
    }
   },
   "outputs": [
    {
     "data": {
      "text/plain": [
       "Index(['Store', 'DayOfWeek', 'Date', 'Sales', 'Customers', 'Open', 'Promo',\n",
       "       'StateHoliday', 'SchoolHoliday', 'StoreType', 'Assortment',\n",
       "       'CompetitionDistance', 'CompetitionOpenSinceMonth',\n",
       "       'CompetitionOpenSinceYear', 'Promo2', 'Promo2SinceWeek',\n",
       "       'Promo2SinceYear', 'PromoInterval'],\n",
       "      dtype='object')"
      ]
     },
     "execution_count": 5,
     "metadata": {},
     "output_type": "execute_result"
    }
   ],
   "source": [
    "df1.columns"
   ]
  },
  {
   "cell_type": "code",
   "execution_count": 6,
   "id": "44938626",
   "metadata": {
    "ExecuteTime": {
     "end_time": "2023-05-25T15:14:30.556271Z",
     "start_time": "2023-05-25T15:14:30.546732Z"
    }
   },
   "outputs": [],
   "source": [
    "cols_old = ['Store', 'DayOfWeek', 'Date', 'Sales', 'Customers', 'Open', 'Promo',\n",
    "            'StateHoliday', 'SchoolHoliday', 'StoreType', 'Assortment',\n",
    "            'CompetitionDistance', 'CompetitionOpenSinceMonth',\n",
    "            'CompetitionOpenSinceYear', 'Promo2', 'Promo2SinceWeek',\n",
    "            'Promo2SinceYear', 'PromoInterval']\n",
    "\n",
    "snakecase = lambda x: inflection.underscore( x )\n",
    "\n",
    "cols_new = list( map( snakecase, cols_old ) )\n",
    "\n",
    "df1.columns = cols_new"
   ]
  },
  {
   "cell_type": "markdown",
   "id": "704b8ab3",
   "metadata": {},
   "source": [
    "## Data Dimensions"
   ]
  },
  {
   "cell_type": "code",
   "execution_count": 7,
   "id": "bcb3970f",
   "metadata": {
    "ExecuteTime": {
     "end_time": "2023-05-25T15:14:33.295234Z",
     "start_time": "2023-05-25T15:14:33.286633Z"
    }
   },
   "outputs": [
    {
     "name": "stdout",
     "output_type": "stream",
     "text": [
      "Número de Linhas: 1017209\n",
      "Número de Colunas: 18\n"
     ]
    }
   ],
   "source": [
    "print( 'Número de Linhas: {}'.format( df1.shape[0] ) )\n",
    "print( 'Número de Colunas: {}'.format( df1.shape[1] ) )"
   ]
  },
  {
   "cell_type": "markdown",
   "id": "63f42eda",
   "metadata": {},
   "source": [
    "## Tipo de Dados"
   ]
  },
  {
   "cell_type": "code",
   "execution_count": 8,
   "id": "a168ab75",
   "metadata": {
    "ExecuteTime": {
     "end_time": "2023-05-25T15:14:37.641917Z",
     "start_time": "2023-05-25T15:14:37.456618Z"
    }
   },
   "outputs": [
    {
     "data": {
      "text/plain": [
       "store                                    int64\n",
       "day_of_week                              int64\n",
       "date                            datetime64[ns]\n",
       "sales                                    int64\n",
       "customers                                int64\n",
       "open                                     int64\n",
       "promo                                    int64\n",
       "state_holiday                           object\n",
       "school_holiday                           int64\n",
       "store_type                              object\n",
       "assortment                              object\n",
       "competition_distance                   float64\n",
       "competition_open_since_month           float64\n",
       "competition_open_since_year            float64\n",
       "promo2                                   int64\n",
       "promo2_since_week                      float64\n",
       "promo2_since_year                      float64\n",
       "promo_interval                          object\n",
       "dtype: object"
      ]
     },
     "execution_count": 8,
     "metadata": {},
     "output_type": "execute_result"
    }
   ],
   "source": [
    "df1['date'] = pd.to_datetime( df1['date'] )\n",
    "\n",
    "df1.dtypes"
   ]
  },
  {
   "cell_type": "code",
   "execution_count": null,
   "id": "b588effe",
   "metadata": {
    "ExecuteTime": {
     "end_time": "2023-04-16T02:31:17.556411Z",
     "start_time": "2023-04-16T02:31:17.541503Z"
    }
   },
   "outputs": [],
   "source": []
  },
  {
   "cell_type": "markdown",
   "id": "cf79951f",
   "metadata": {},
   "source": [
    "## Check NA"
   ]
  },
  {
   "cell_type": "code",
   "execution_count": 9,
   "id": "663cf5f3",
   "metadata": {
    "ExecuteTime": {
     "end_time": "2023-05-25T15:14:42.708911Z",
     "start_time": "2023-05-25T15:14:42.427309Z"
    }
   },
   "outputs": [
    {
     "data": {
      "text/plain": [
       "store                                0\n",
       "day_of_week                          0\n",
       "date                                 0\n",
       "sales                                0\n",
       "customers                            0\n",
       "open                                 0\n",
       "promo                                0\n",
       "state_holiday                        0\n",
       "school_holiday                       0\n",
       "store_type                           0\n",
       "assortment                           0\n",
       "competition_distance              2642\n",
       "competition_open_since_month    323348\n",
       "competition_open_since_year     323348\n",
       "promo2                               0\n",
       "promo2_since_week               508031\n",
       "promo2_since_year               508031\n",
       "promo_interval                  508031\n",
       "dtype: int64"
      ]
     },
     "execution_count": 9,
     "metadata": {},
     "output_type": "execute_result"
    }
   ],
   "source": [
    "df1.isna().sum()"
   ]
  },
  {
   "cell_type": "markdown",
   "id": "a80b6af3",
   "metadata": {},
   "source": [
    "## Fillout NA"
   ]
  },
  {
   "cell_type": "markdown",
   "id": "c5eb841e",
   "metadata": {},
   "source": [
    "**ABORDAGENS**\n",
    "\n",
    "Ao invés de excluir as linhas com dados faltantes, o que seria uma quantidade significativa de dados, ipreencheremos os dados fantaltes considerando algumas hipóteses com base em contexto de negócio.\n",
    "\n",
    "**competition_distance** - Se esta coluna tem NA, é porquê  (1) não tem um competidor mais próximo ou (2) o competidor está tão longe que não tem competição.\n",
    "Se tivermos uma distância muito maior do que a distância máxima que tem nessa coluna, é a mesma coisa de dizer que não tem um competidor mais próximo.\n",
    "O competidor mais distante está a 75860.0 metros. Abordagem: 200000.0 metros é um valor considerável para este contexto.\n",
    "\n",
    "\n",
    "**competition_open_since_month** - Esta coluna mostra um mês e ano aproximado que um competidor mais próximo foi aberto. Existem duas razões para esta coluna ter NA. (1) A loja não tem um competidor mais próximo, (2) a loja tem um competidor mais próximo mas não sabemos quando ele abriu, ou porquê o competidor já existia antes da loja ser aberta ou porquê o competidor abriu depois e alguém esqueceu de registrar. Abordagem: Se *competition_open_since_month* for NA, levar a data de venda para esta coluna. \"Quanto tempo faz que tem uma competição\" pode ser uma boa explicação de porquê as vendas aumentam e diminuem. Não sabemos como vai funcionar, então será apenas um teste. Uma outra abordagem seria colocar nesta coluna quando for NA, a data da primeira venda da loja em questão. Dessa forma, teremos uma data estática ao longo do tempo.\n",
    "\n",
    "\n",
    "**competition_open_since_year** - Mesma lógica de *competition_open_since_month*.\n",
    "\n",
    "\n",
    "**promo2_since_week** - Se esta coluna tem NA, é porquê ela decidiu não participar da promoção. Abordagem: subistituir NA pela data em questão.\n",
    "\n",
    "\n",
    "**promo2_since_year** - Mesma lógica de *promo2_since_week*.\n",
    "\n",
    "\n",
    "**promo_interval** - São os meses que a promo2 ficou ativa. Para valores NA, significa que não tinha nenhuma promo2 ativa. Proposta: Fazer um split da coluna e, se a data estiver dentro dessa lista, significa que a venda ocorreu quando tinha uma promo2 ativa."
   ]
  },
  {
   "cell_type": "code",
   "execution_count": 10,
   "id": "24b391c3",
   "metadata": {
    "ExecuteTime": {
     "end_time": "2023-05-25T15:14:47.959529Z",
     "start_time": "2023-05-25T15:14:47.944254Z"
    }
   },
   "outputs": [
    {
     "data": {
      "text/plain": [
       "75860.0"
      ]
     },
     "execution_count": 10,
     "metadata": {},
     "output_type": "execute_result"
    }
   ],
   "source": [
    "df1['competition_distance'].max()"
   ]
  },
  {
   "cell_type": "code",
   "execution_count": 11,
   "id": "007d7360",
   "metadata": {
    "ExecuteTime": {
     "end_time": "2023-05-25T15:14:51.057999Z",
     "start_time": "2023-05-25T15:14:51.051187Z"
    }
   },
   "outputs": [
    {
     "name": "stdout",
     "output_type": "stream",
     "text": [
      "2000.0\n"
     ]
    }
   ],
   "source": [
    "max_value = 2000.0\n",
    "print( max_value )"
   ]
  },
  {
   "cell_type": "code",
   "execution_count": 43,
   "id": "fccb57c1",
   "metadata": {
    "ExecuteTime": {
     "end_time": "2023-05-25T15:16:44.934417Z",
     "start_time": "2023-05-25T15:14:56.071262Z"
    }
   },
   "outputs": [],
   "source": [
    "# competition_distance\n",
    "df1['competition_distance'] = df1['competition_distance'].apply( lambda x: max_value if math.isnan( x ) else x )\n",
    "\n",
    "# competition_open_since_month\n",
    "df1['competition_open_since_month'] = df1.apply( lambda x: x['date'].month if math.isnan( x['competition_open_since_month'] ) else x['competition_open_since_month'], axis=1 )\n",
    "\n",
    "# competition_open_since_year\n",
    "df1['competition_open_since_year'] = df1.apply( lambda x: x['date'].year if math.isnan( x['competition_open_since_year'] ) else x['competition_open_since_year'], axis=1 )\n",
    "\n",
    "# promo2_since_week\n",
    "df1['promo2_since_week'] = df1.apply( lambda x: x['date'].week if math.isnan( x['promo2_since_week'] ) else x['promo2_since_week'], axis=1 )\n",
    "\n",
    "# promo2_since_year\n",
    "df1['promo2_since_year'] = df1.apply( lambda x: x['date'].year if math.isnan( x['promo2_since_year'] ) else x['promo2_since_year'], axis=1 )\n",
    "\n",
    "# promo_interval\n",
    "month_map = {1:'Jan', 2:'Fev', 3:'Mar', 4:'Apr', 5:'Mai', 6:'Jun', 7:'Jul', 8:'Aug', 9:'Sep', 10:'Oct', 11:'Nov', 12:'Dec' }\n",
    "\n",
    "df1['promo_interval'].fillna( 0, inplace=True )\n",
    "\n",
    "df1['month_map'] = df1['date'].dt.month.map( month_map )\n",
    "\n",
    "df1['is_promo'] = df1[['promo_interval', 'month_map']].apply( lambda x: 0 if x['promo_interval'] == 0 else 1 if x['month_map'] in x['promo_interval'].split( ',' ) else 0, axis=1 )"
   ]
  },
  {
   "cell_type": "code",
   "execution_count": 13,
   "id": "6c2228d0",
   "metadata": {
    "ExecuteTime": {
     "end_time": "2023-04-18T13:01:42.234104Z",
     "start_time": "2023-04-18T13:01:42.143236Z"
    }
   },
   "outputs": [
    {
     "data": {
      "text/html": [
       "<div>\n",
       "<style scoped>\n",
       "    .dataframe tbody tr th:only-of-type {\n",
       "        vertical-align: middle;\n",
       "    }\n",
       "\n",
       "    .dataframe tbody tr th {\n",
       "        vertical-align: top;\n",
       "    }\n",
       "\n",
       "    .dataframe thead th {\n",
       "        text-align: right;\n",
       "    }\n",
       "</style>\n",
       "<table border=\"1\" class=\"dataframe\">\n",
       "  <thead>\n",
       "    <tr style=\"text-align: right;\">\n",
       "      <th></th>\n",
       "      <th>805663</th>\n",
       "      <th>163210</th>\n",
       "      <th>5441</th>\n",
       "      <th>603700</th>\n",
       "      <th>960423</th>\n",
       "    </tr>\n",
       "  </thead>\n",
       "  <tbody>\n",
       "    <tr>\n",
       "      <th>store</th>\n",
       "      <td>304</td>\n",
       "      <td>421</td>\n",
       "      <td>982</td>\n",
       "      <td>156</td>\n",
       "      <td>79</td>\n",
       "    </tr>\n",
       "    <tr>\n",
       "      <th>day_of_week</th>\n",
       "      <td>2</td>\n",
       "      <td>6</td>\n",
       "      <td>1</td>\n",
       "      <td>1</td>\n",
       "      <td>3</td>\n",
       "    </tr>\n",
       "    <tr>\n",
       "      <th>date</th>\n",
       "      <td>2013-07-09 00:00:00</td>\n",
       "      <td>2015-03-07 00:00:00</td>\n",
       "      <td>2015-07-27 00:00:00</td>\n",
       "      <td>2014-01-06 00:00:00</td>\n",
       "      <td>2013-02-20 00:00:00</td>\n",
       "    </tr>\n",
       "    <tr>\n",
       "      <th>sales</th>\n",
       "      <td>5886</td>\n",
       "      <td>12700</td>\n",
       "      <td>13856</td>\n",
       "      <td>12008</td>\n",
       "      <td>5397</td>\n",
       "    </tr>\n",
       "    <tr>\n",
       "      <th>customers</th>\n",
       "      <td>1007</td>\n",
       "      <td>1315</td>\n",
       "      <td>1015</td>\n",
       "      <td>1048</td>\n",
       "      <td>547</td>\n",
       "    </tr>\n",
       "    <tr>\n",
       "      <th>open</th>\n",
       "      <td>1</td>\n",
       "      <td>1</td>\n",
       "      <td>1</td>\n",
       "      <td>1</td>\n",
       "      <td>1</td>\n",
       "    </tr>\n",
       "    <tr>\n",
       "      <th>promo</th>\n",
       "      <td>0</td>\n",
       "      <td>0</td>\n",
       "      <td>1</td>\n",
       "      <td>1</td>\n",
       "      <td>1</td>\n",
       "    </tr>\n",
       "    <tr>\n",
       "      <th>state_holiday</th>\n",
       "      <td>0</td>\n",
       "      <td>0</td>\n",
       "      <td>0</td>\n",
       "      <td>0</td>\n",
       "      <td>0</td>\n",
       "    </tr>\n",
       "    <tr>\n",
       "      <th>school_holiday</th>\n",
       "      <td>1</td>\n",
       "      <td>0</td>\n",
       "      <td>1</td>\n",
       "      <td>0</td>\n",
       "      <td>0</td>\n",
       "    </tr>\n",
       "    <tr>\n",
       "      <th>store_type</th>\n",
       "      <td>a</td>\n",
       "      <td>c</td>\n",
       "      <td>d</td>\n",
       "      <td>a</td>\n",
       "      <td>a</td>\n",
       "    </tr>\n",
       "    <tr>\n",
       "      <th>assortment</th>\n",
       "      <td>a</td>\n",
       "      <td>c</td>\n",
       "      <td>a</td>\n",
       "      <td>a</td>\n",
       "      <td>a</td>\n",
       "    </tr>\n",
       "    <tr>\n",
       "      <th>competition_distance</th>\n",
       "      <td>1950.0</td>\n",
       "      <td>3530.0</td>\n",
       "      <td>21930.0</td>\n",
       "      <td>2020.0</td>\n",
       "      <td>3320.0</td>\n",
       "    </tr>\n",
       "    <tr>\n",
       "      <th>competition_open_since_month</th>\n",
       "      <td>7.0</td>\n",
       "      <td>6.0</td>\n",
       "      <td>7.0</td>\n",
       "      <td>2.0</td>\n",
       "      <td>2.0</td>\n",
       "    </tr>\n",
       "    <tr>\n",
       "      <th>competition_open_since_year</th>\n",
       "      <td>2015.0</td>\n",
       "      <td>2012.0</td>\n",
       "      <td>2015.0</td>\n",
       "      <td>2011.0</td>\n",
       "      <td>2013.0</td>\n",
       "    </tr>\n",
       "    <tr>\n",
       "      <th>promo2</th>\n",
       "      <td>0</td>\n",
       "      <td>1</td>\n",
       "      <td>0</td>\n",
       "      <td>1</td>\n",
       "      <td>0</td>\n",
       "    </tr>\n",
       "    <tr>\n",
       "      <th>promo2_since_week</th>\n",
       "      <td>28.0</td>\n",
       "      <td>35.0</td>\n",
       "      <td>31.0</td>\n",
       "      <td>14.0</td>\n",
       "      <td>8.0</td>\n",
       "    </tr>\n",
       "    <tr>\n",
       "      <th>promo2_since_year</th>\n",
       "      <td>2013.0</td>\n",
       "      <td>2012.0</td>\n",
       "      <td>2015.0</td>\n",
       "      <td>2011.0</td>\n",
       "      <td>2013.0</td>\n",
       "    </tr>\n",
       "    <tr>\n",
       "      <th>promo_interval</th>\n",
       "      <td>0</td>\n",
       "      <td>Mar,Jun,Sept,Dec</td>\n",
       "      <td>0</td>\n",
       "      <td>Mar,Jun,Sept,Dec</td>\n",
       "      <td>0</td>\n",
       "    </tr>\n",
       "    <tr>\n",
       "      <th>month_map</th>\n",
       "      <td>Jul</td>\n",
       "      <td>Mar</td>\n",
       "      <td>Jul</td>\n",
       "      <td>Jan</td>\n",
       "      <td>Fev</td>\n",
       "    </tr>\n",
       "    <tr>\n",
       "      <th>is_promo</th>\n",
       "      <td>0</td>\n",
       "      <td>1</td>\n",
       "      <td>0</td>\n",
       "      <td>0</td>\n",
       "      <td>0</td>\n",
       "    </tr>\n",
       "  </tbody>\n",
       "</table>\n",
       "</div>"
      ],
      "text/plain": [
       "                                           805663               163210               5441                 603700               960423\n",
       "store                                         304                  421                  982                  156                   79\n",
       "day_of_week                                     2                    6                    1                    1                    3\n",
       "date                          2013-07-09 00:00:00  2015-03-07 00:00:00  2015-07-27 00:00:00  2014-01-06 00:00:00  2013-02-20 00:00:00\n",
       "sales                                        5886                12700                13856                12008                 5397\n",
       "customers                                    1007                 1315                 1015                 1048                  547\n",
       "open                                            1                    1                    1                    1                    1\n",
       "promo                                           0                    0                    1                    1                    1\n",
       "state_holiday                                   0                    0                    0                    0                    0\n",
       "school_holiday                                  1                    0                    1                    0                    0\n",
       "store_type                                      a                    c                    d                    a                    a\n",
       "assortment                                      a                    c                    a                    a                    a\n",
       "competition_distance                       1950.0               3530.0              21930.0               2020.0               3320.0\n",
       "competition_open_since_month                  7.0                  6.0                  7.0                  2.0                  2.0\n",
       "competition_open_since_year                2015.0               2012.0               2015.0               2011.0               2013.0\n",
       "promo2                                          0                    1                    0                    1                    0\n",
       "promo2_since_week                            28.0                 35.0                 31.0                 14.0                  8.0\n",
       "promo2_since_year                          2013.0               2012.0               2015.0               2011.0               2013.0\n",
       "promo_interval                                  0     Mar,Jun,Sept,Dec                    0     Mar,Jun,Sept,Dec                    0\n",
       "month_map                                     Jul                  Mar                  Jul                  Jan                  Fev\n",
       "is_promo                                        0                    1                    0                    0                    0"
      ]
     },
     "execution_count": 13,
     "metadata": {},
     "output_type": "execute_result"
    }
   ],
   "source": [
    "df1.sample(5).T"
   ]
  },
  {
   "cell_type": "code",
   "execution_count": 14,
   "id": "26b8a28c",
   "metadata": {
    "ExecuteTime": {
     "end_time": "2023-04-18T13:01:42.478129Z",
     "start_time": "2023-04-18T13:01:42.239498Z"
    }
   },
   "outputs": [
    {
     "data": {
      "text/plain": [
       "store                           0\n",
       "day_of_week                     0\n",
       "date                            0\n",
       "sales                           0\n",
       "customers                       0\n",
       "open                            0\n",
       "promo                           0\n",
       "state_holiday                   0\n",
       "school_holiday                  0\n",
       "store_type                      0\n",
       "assortment                      0\n",
       "competition_distance            0\n",
       "competition_open_since_month    0\n",
       "competition_open_since_year     0\n",
       "promo2                          0\n",
       "promo2_since_week               0\n",
       "promo2_since_year               0\n",
       "promo_interval                  0\n",
       "month_map                       0\n",
       "is_promo                        0\n",
       "dtype: int64"
      ]
     },
     "execution_count": 14,
     "metadata": {},
     "output_type": "execute_result"
    }
   ],
   "source": [
    "df1.isna().sum()"
   ]
  },
  {
   "cell_type": "markdown",
   "id": "86d238ae",
   "metadata": {},
   "source": [
    "## Change Types"
   ]
  },
  {
   "cell_type": "code",
   "execution_count": 45,
   "id": "ae9fab7e",
   "metadata": {
    "ExecuteTime": {
     "end_time": "2023-04-18T13:01:42.498811Z",
     "start_time": "2023-04-18T13:01:42.483963Z"
    }
   },
   "outputs": [
    {
     "data": {
      "text/plain": [
       "store                                    int64\n",
       "day_of_week                              int64\n",
       "date                            datetime64[ns]\n",
       "sales                                    int64\n",
       "customers                                int64\n",
       "open                                     int64\n",
       "promo                                    int64\n",
       "state_holiday                           object\n",
       "school_holiday                           int64\n",
       "store_type                              object\n",
       "assortment                              object\n",
       "competition_distance                   float64\n",
       "competition_open_since_month             int64\n",
       "competition_open_since_year              int64\n",
       "promo2                                   int64\n",
       "promo2_since_week                        int64\n",
       "promo2_since_year                        int64\n",
       "promo_interval                          object\n",
       "month_map                               object\n",
       "is_promo                                 int64\n",
       "dtype: object"
      ]
     },
     "execution_count": 45,
     "metadata": {},
     "output_type": "execute_result"
    }
   ],
   "source": [
    "df1.dtypes"
   ]
  },
  {
   "cell_type": "code",
   "execution_count": 44,
   "id": "9d93a3b9",
   "metadata": {
    "ExecuteTime": {
     "end_time": "2023-04-18T13:01:42.540897Z",
     "start_time": "2023-04-18T13:01:42.505266Z"
    }
   },
   "outputs": [],
   "source": [
    "df1['competition_open_since_month'] = df1['competition_open_since_month'].astype( int )\n",
    "df1['competition_open_since_year'] = df1['competition_open_since_year'].astype( int )\n",
    "df1['promo2_since_week'] = df1['promo2_since_week'].astype( int )\n",
    "df1['promo2_since_year'] = df1['promo2_since_year'].astype( int )"
   ]
  },
  {
   "cell_type": "markdown",
   "id": "23100b39",
   "metadata": {},
   "source": [
    "## Estatística Descritiva"
   ]
  },
  {
   "cell_type": "markdown",
   "id": "83f460b5-ea0d-43b4-82f2-1272f20f5b33",
   "metadata": {},
   "source": [
    "### Prep"
   ]
  },
  {
   "cell_type": "code",
   "execution_count": 16,
   "id": "e4fd26b9",
   "metadata": {
    "ExecuteTime": {
     "end_time": "2023-04-18T13:01:42.597893Z",
     "start_time": "2023-04-18T13:01:42.547989Z"
    }
   },
   "outputs": [
    {
     "data": {
      "text/plain": [
       "array(['a', 'c', 'b'], dtype=object)"
      ]
     },
     "execution_count": 16,
     "metadata": {},
     "output_type": "execute_result"
    }
   ],
   "source": [
    "df1['assortment'].unique()"
   ]
  },
  {
   "cell_type": "code",
   "execution_count": 24,
   "id": "19bdbf9a-d99e-4265-9438-1cda52a7f7f1",
   "metadata": {},
   "outputs": [
    {
     "data": {
      "text/html": [
       "<div>\n",
       "<style scoped>\n",
       "    .dataframe tbody tr th:only-of-type {\n",
       "        vertical-align: middle;\n",
       "    }\n",
       "\n",
       "    .dataframe tbody tr th {\n",
       "        vertical-align: top;\n",
       "    }\n",
       "\n",
       "    .dataframe thead th {\n",
       "        text-align: right;\n",
       "    }\n",
       "</style>\n",
       "<table border=\"1\" class=\"dataframe\">\n",
       "  <thead>\n",
       "    <tr style=\"text-align: right;\">\n",
       "      <th></th>\n",
       "      <th>20515</th>\n",
       "      <th>909511</th>\n",
       "      <th>549327</th>\n",
       "      <th>275879</th>\n",
       "      <th>3291</th>\n",
       "      <th>873101</th>\n",
       "      <th>425323</th>\n",
       "      <th>915184</th>\n",
       "      <th>495604</th>\n",
       "      <th>274368</th>\n",
       "    </tr>\n",
       "  </thead>\n",
       "  <tbody>\n",
       "    <tr>\n",
       "      <th>store</th>\n",
       "      <td>446</td>\n",
       "      <td>457</td>\n",
       "      <td>418</td>\n",
       "      <td>280</td>\n",
       "      <td>1062</td>\n",
       "      <td>842</td>\n",
       "      <td>179</td>\n",
       "      <td>555</td>\n",
       "      <td>215</td>\n",
       "      <td>708</td>\n",
       "    </tr>\n",
       "    <tr>\n",
       "      <th>day_of_week</th>\n",
       "      <td>1</td>\n",
       "      <td>7</td>\n",
       "      <td>1</td>\n",
       "      <td>3</td>\n",
       "      <td>3</td>\n",
       "      <td>5</td>\n",
       "      <td>7</td>\n",
       "      <td>2</td>\n",
       "      <td>7</td>\n",
       "      <td>5</td>\n",
       "    </tr>\n",
       "    <tr>\n",
       "      <th>date</th>\n",
       "      <td>2015-07-13 00:00:00</td>\n",
       "      <td>2013-04-07 00:00:00</td>\n",
       "      <td>2014-02-24 00:00:00</td>\n",
       "      <td>2014-11-19 00:00:00</td>\n",
       "      <td>2015-07-29 00:00:00</td>\n",
       "      <td>2013-05-10 00:00:00</td>\n",
       "      <td>2014-06-15 00:00:00</td>\n",
       "      <td>2013-04-02 00:00:00</td>\n",
       "      <td>2014-04-13 00:00:00</td>\n",
       "      <td>2014-11-21 00:00:00</td>\n",
       "    </tr>\n",
       "    <tr>\n",
       "      <th>sales</th>\n",
       "      <td>6206</td>\n",
       "      <td>0</td>\n",
       "      <td>4250</td>\n",
       "      <td>4456</td>\n",
       "      <td>7050</td>\n",
       "      <td>26459</td>\n",
       "      <td>0</td>\n",
       "      <td>4741</td>\n",
       "      <td>0</td>\n",
       "      <td>5765</td>\n",
       "    </tr>\n",
       "    <tr>\n",
       "      <th>customers</th>\n",
       "      <td>673</td>\n",
       "      <td>0</td>\n",
       "      <td>523</td>\n",
       "      <td>382</td>\n",
       "      <td>555</td>\n",
       "      <td>1616</td>\n",
       "      <td>0</td>\n",
       "      <td>467</td>\n",
       "      <td>0</td>\n",
       "      <td>588</td>\n",
       "    </tr>\n",
       "    <tr>\n",
       "      <th>open</th>\n",
       "      <td>1</td>\n",
       "      <td>0</td>\n",
       "      <td>1</td>\n",
       "      <td>1</td>\n",
       "      <td>1</td>\n",
       "      <td>1</td>\n",
       "      <td>0</td>\n",
       "      <td>1</td>\n",
       "      <td>0</td>\n",
       "      <td>1</td>\n",
       "    </tr>\n",
       "    <tr>\n",
       "      <th>promo</th>\n",
       "      <td>1</td>\n",
       "      <td>0</td>\n",
       "      <td>0</td>\n",
       "      <td>0</td>\n",
       "      <td>1</td>\n",
       "      <td>0</td>\n",
       "      <td>0</td>\n",
       "      <td>0</td>\n",
       "      <td>0</td>\n",
       "      <td>0</td>\n",
       "    </tr>\n",
       "    <tr>\n",
       "      <th>state_holiday</th>\n",
       "      <td>0</td>\n",
       "      <td>0</td>\n",
       "      <td>0</td>\n",
       "      <td>0</td>\n",
       "      <td>0</td>\n",
       "      <td>0</td>\n",
       "      <td>0</td>\n",
       "      <td>0</td>\n",
       "      <td>0</td>\n",
       "      <td>0</td>\n",
       "    </tr>\n",
       "    <tr>\n",
       "      <th>school_holiday</th>\n",
       "      <td>1</td>\n",
       "      <td>0</td>\n",
       "      <td>0</td>\n",
       "      <td>0</td>\n",
       "      <td>1</td>\n",
       "      <td>0</td>\n",
       "      <td>0</td>\n",
       "      <td>1</td>\n",
       "      <td>0</td>\n",
       "      <td>0</td>\n",
       "    </tr>\n",
       "    <tr>\n",
       "      <th>store_type</th>\n",
       "      <td>a</td>\n",
       "      <td>d</td>\n",
       "      <td>a</td>\n",
       "      <td>d</td>\n",
       "      <td>d</td>\n",
       "      <td>d</td>\n",
       "      <td>a</td>\n",
       "      <td>d</td>\n",
       "      <td>d</td>\n",
       "      <td>c</td>\n",
       "    </tr>\n",
       "    <tr>\n",
       "      <th>assortment</th>\n",
       "      <td>a</td>\n",
       "      <td>c</td>\n",
       "      <td>a</td>\n",
       "      <td>c</td>\n",
       "      <td>a</td>\n",
       "      <td>c</td>\n",
       "      <td>c</td>\n",
       "      <td>a</td>\n",
       "      <td>a</td>\n",
       "      <td>c</td>\n",
       "    </tr>\n",
       "    <tr>\n",
       "      <th>competition_distance</th>\n",
       "      <td>340.0</td>\n",
       "      <td>13140.0</td>\n",
       "      <td>1060.0</td>\n",
       "      <td>18640.0</td>\n",
       "      <td>190.0</td>\n",
       "      <td>1200.0</td>\n",
       "      <td>480.0</td>\n",
       "      <td>1560.0</td>\n",
       "      <td>150.0</td>\n",
       "      <td>11470.0</td>\n",
       "    </tr>\n",
       "    <tr>\n",
       "      <th>competition_open_since_month</th>\n",
       "      <td>10</td>\n",
       "      <td>4</td>\n",
       "      <td>5</td>\n",
       "      <td>9</td>\n",
       "      <td>9</td>\n",
       "      <td>11</td>\n",
       "      <td>6</td>\n",
       "      <td>1</td>\n",
       "      <td>4</td>\n",
       "      <td>10</td>\n",
       "    </tr>\n",
       "    <tr>\n",
       "      <th>competition_open_since_year</th>\n",
       "      <td>2000</td>\n",
       "      <td>2013</td>\n",
       "      <td>2009</td>\n",
       "      <td>2013</td>\n",
       "      <td>2012</td>\n",
       "      <td>2007</td>\n",
       "      <td>2014</td>\n",
       "      <td>2014</td>\n",
       "      <td>2014</td>\n",
       "      <td>2009</td>\n",
       "    </tr>\n",
       "    <tr>\n",
       "      <th>promo2</th>\n",
       "      <td>1</td>\n",
       "      <td>1</td>\n",
       "      <td>1</td>\n",
       "      <td>1</td>\n",
       "      <td>1</td>\n",
       "      <td>0</td>\n",
       "      <td>0</td>\n",
       "      <td>1</td>\n",
       "      <td>1</td>\n",
       "      <td>1</td>\n",
       "    </tr>\n",
       "    <tr>\n",
       "      <th>promo2_since_week</th>\n",
       "      <td>31</td>\n",
       "      <td>31</td>\n",
       "      <td>27</td>\n",
       "      <td>10</td>\n",
       "      <td>40</td>\n",
       "      <td>19</td>\n",
       "      <td>24</td>\n",
       "      <td>10</td>\n",
       "      <td>45</td>\n",
       "      <td>18</td>\n",
       "    </tr>\n",
       "    <tr>\n",
       "      <th>promo2_since_year</th>\n",
       "      <td>2013</td>\n",
       "      <td>2013</td>\n",
       "      <td>2011</td>\n",
       "      <td>2014</td>\n",
       "      <td>2012</td>\n",
       "      <td>2013</td>\n",
       "      <td>2014</td>\n",
       "      <td>2013</td>\n",
       "      <td>2009</td>\n",
       "      <td>2014</td>\n",
       "    </tr>\n",
       "    <tr>\n",
       "      <th>promo_interval</th>\n",
       "      <td>Feb,May,Aug,Nov</td>\n",
       "      <td>Jan,Apr,Jul,Oct</td>\n",
       "      <td>Feb,May,Aug,Nov</td>\n",
       "      <td>Mar,Jun,Sept,Dec</td>\n",
       "      <td>Feb,May,Aug,Nov</td>\n",
       "      <td>0</td>\n",
       "      <td>0</td>\n",
       "      <td>Mar,Jun,Sept,Dec</td>\n",
       "      <td>Feb,May,Aug,Nov</td>\n",
       "      <td>Jan,Apr,Jul,Oct</td>\n",
       "    </tr>\n",
       "    <tr>\n",
       "      <th>month_map</th>\n",
       "      <td>Jul</td>\n",
       "      <td>Apr</td>\n",
       "      <td>Fev</td>\n",
       "      <td>Nov</td>\n",
       "      <td>Jul</td>\n",
       "      <td>Mai</td>\n",
       "      <td>Jun</td>\n",
       "      <td>Apr</td>\n",
       "      <td>Apr</td>\n",
       "      <td>Nov</td>\n",
       "    </tr>\n",
       "    <tr>\n",
       "      <th>is_promo</th>\n",
       "      <td>0</td>\n",
       "      <td>1</td>\n",
       "      <td>0</td>\n",
       "      <td>0</td>\n",
       "      <td>0</td>\n",
       "      <td>0</td>\n",
       "      <td>0</td>\n",
       "      <td>0</td>\n",
       "      <td>0</td>\n",
       "      <td>0</td>\n",
       "    </tr>\n",
       "  </tbody>\n",
       "</table>\n",
       "</div>"
      ],
      "text/plain": [
       "                                           20515                909511               549327               275879               3291                 873101               425323               915184               495604               274368\n",
       "store                                         446                  457                  418                  280                 1062                  842                  179                  555                  215                  708\n",
       "day_of_week                                     1                    7                    1                    3                    3                    5                    7                    2                    7                    5\n",
       "date                          2015-07-13 00:00:00  2013-04-07 00:00:00  2014-02-24 00:00:00  2014-11-19 00:00:00  2015-07-29 00:00:00  2013-05-10 00:00:00  2014-06-15 00:00:00  2013-04-02 00:00:00  2014-04-13 00:00:00  2014-11-21 00:00:00\n",
       "sales                                        6206                    0                 4250                 4456                 7050                26459                    0                 4741                    0                 5765\n",
       "customers                                     673                    0                  523                  382                  555                 1616                    0                  467                    0                  588\n",
       "open                                            1                    0                    1                    1                    1                    1                    0                    1                    0                    1\n",
       "promo                                           1                    0                    0                    0                    1                    0                    0                    0                    0                    0\n",
       "state_holiday                                   0                    0                    0                    0                    0                    0                    0                    0                    0                    0\n",
       "school_holiday                                  1                    0                    0                    0                    1                    0                    0                    1                    0                    0\n",
       "store_type                                      a                    d                    a                    d                    d                    d                    a                    d                    d                    c\n",
       "assortment                                      a                    c                    a                    c                    a                    c                    c                    a                    a                    c\n",
       "competition_distance                        340.0              13140.0               1060.0              18640.0                190.0               1200.0                480.0               1560.0                150.0              11470.0\n",
       "competition_open_since_month                   10                    4                    5                    9                    9                   11                    6                    1                    4                   10\n",
       "competition_open_since_year                  2000                 2013                 2009                 2013                 2012                 2007                 2014                 2014                 2014                 2009\n",
       "promo2                                          1                    1                    1                    1                    1                    0                    0                    1                    1                    1\n",
       "promo2_since_week                              31                   31                   27                   10                   40                   19                   24                   10                   45                   18\n",
       "promo2_since_year                            2013                 2013                 2011                 2014                 2012                 2013                 2014                 2013                 2009                 2014\n",
       "promo_interval                    Feb,May,Aug,Nov      Jan,Apr,Jul,Oct      Feb,May,Aug,Nov     Mar,Jun,Sept,Dec      Feb,May,Aug,Nov                    0                    0     Mar,Jun,Sept,Dec      Feb,May,Aug,Nov      Jan,Apr,Jul,Oct\n",
       "month_map                                     Jul                  Apr                  Fev                  Nov                  Jul                  Mai                  Jun                  Apr                  Apr                  Nov\n",
       "is_promo                                        0                    1                    0                    0                    0                    0                    0                    0                    0                    0"
      ]
     },
     "execution_count": 24,
     "metadata": {},
     "output_type": "execute_result"
    }
   ],
   "source": [
    "df1.sample(10).T"
   ]
  },
  {
   "cell_type": "code",
   "execution_count": 17,
   "id": "9255caf5",
   "metadata": {
    "ExecuteTime": {
     "end_time": "2023-04-18T13:12:36.423932Z",
     "start_time": "2023-04-18T13:12:36.377172Z"
    }
   },
   "outputs": [
    {
     "data": {
      "text/html": [
       "<div>\n",
       "<style scoped>\n",
       "    .dataframe tbody tr th:only-of-type {\n",
       "        vertical-align: middle;\n",
       "    }\n",
       "\n",
       "    .dataframe tbody tr th {\n",
       "        vertical-align: top;\n",
       "    }\n",
       "\n",
       "    .dataframe thead th {\n",
       "        text-align: right;\n",
       "    }\n",
       "</style>\n",
       "<table border=\"1\" class=\"dataframe\">\n",
       "  <thead>\n",
       "    <tr style=\"text-align: right;\">\n",
       "      <th></th>\n",
       "      <th>attribute</th>\n",
       "      <th>classe</th>\n",
       "    </tr>\n",
       "  </thead>\n",
       "  <tbody>\n",
       "    <tr>\n",
       "      <th>0</th>\n",
       "      <td>store</td>\n",
       "      <td>nominal</td>\n",
       "    </tr>\n",
       "    <tr>\n",
       "      <th>1</th>\n",
       "      <td>day_of_week</td>\n",
       "      <td>ordinal</td>\n",
       "    </tr>\n",
       "    <tr>\n",
       "      <th>2</th>\n",
       "      <td>date</td>\n",
       "      <td>nominal</td>\n",
       "    </tr>\n",
       "    <tr>\n",
       "      <th>3</th>\n",
       "      <td>sales</td>\n",
       "      <td>contínuo</td>\n",
       "    </tr>\n",
       "    <tr>\n",
       "      <th>4</th>\n",
       "      <td>customers</td>\n",
       "      <td>discreto</td>\n",
       "    </tr>\n",
       "    <tr>\n",
       "      <th>5</th>\n",
       "      <td>open</td>\n",
       "      <td>nominal</td>\n",
       "    </tr>\n",
       "    <tr>\n",
       "      <th>6</th>\n",
       "      <td>promo</td>\n",
       "      <td>nominal</td>\n",
       "    </tr>\n",
       "    <tr>\n",
       "      <th>7</th>\n",
       "      <td>state_holiday</td>\n",
       "      <td>nominal</td>\n",
       "    </tr>\n",
       "    <tr>\n",
       "      <th>8</th>\n",
       "      <td>school_holiday</td>\n",
       "      <td>nominal</td>\n",
       "    </tr>\n",
       "    <tr>\n",
       "      <th>9</th>\n",
       "      <td>store_type</td>\n",
       "      <td>nominal</td>\n",
       "    </tr>\n",
       "    <tr>\n",
       "      <th>10</th>\n",
       "      <td>assortment</td>\n",
       "      <td>ordinal</td>\n",
       "    </tr>\n",
       "    <tr>\n",
       "      <th>11</th>\n",
       "      <td>competition_distance</td>\n",
       "      <td>contínuo</td>\n",
       "    </tr>\n",
       "    <tr>\n",
       "      <th>12</th>\n",
       "      <td>competition_open_since_month</td>\n",
       "      <td>nominal</td>\n",
       "    </tr>\n",
       "    <tr>\n",
       "      <th>13</th>\n",
       "      <td>competition_open_since_year</td>\n",
       "      <td>nominal</td>\n",
       "    </tr>\n",
       "    <tr>\n",
       "      <th>14</th>\n",
       "      <td>promo2</td>\n",
       "      <td>nominal</td>\n",
       "    </tr>\n",
       "    <tr>\n",
       "      <th>15</th>\n",
       "      <td>promo2_since_week</td>\n",
       "      <td>nominal</td>\n",
       "    </tr>\n",
       "    <tr>\n",
       "      <th>16</th>\n",
       "      <td>promo2_since_year</td>\n",
       "      <td>nominal</td>\n",
       "    </tr>\n",
       "    <tr>\n",
       "      <th>17</th>\n",
       "      <td>promo_interval</td>\n",
       "      <td>nominal</td>\n",
       "    </tr>\n",
       "    <tr>\n",
       "      <th>18</th>\n",
       "      <td>month_map</td>\n",
       "      <td>nominal</td>\n",
       "    </tr>\n",
       "    <tr>\n",
       "      <th>19</th>\n",
       "      <td>is_promo</td>\n",
       "      <td>nominal</td>\n",
       "    </tr>\n",
       "  </tbody>\n",
       "</table>\n",
       "</div>"
      ],
      "text/plain": [
       "                       attribute    classe\n",
       "0                          store   nominal\n",
       "1                    day_of_week   ordinal\n",
       "2                           date   nominal\n",
       "3                          sales  contínuo\n",
       "4                      customers  discreto\n",
       "5                           open   nominal\n",
       "6                          promo   nominal\n",
       "7                  state_holiday   nominal\n",
       "8                 school_holiday   nominal\n",
       "9                     store_type   nominal\n",
       "10                    assortment   ordinal\n",
       "11          competition_distance  contínuo\n",
       "12  competition_open_since_month   nominal\n",
       "13   competition_open_since_year   nominal\n",
       "14                        promo2   nominal\n",
       "15             promo2_since_week   nominal\n",
       "16             promo2_since_year   nominal\n",
       "17                promo_interval   nominal\n",
       "18                     month_map   nominal\n",
       "19                      is_promo   nominal"
      ]
     },
     "execution_count": 17,
     "metadata": {},
     "output_type": "execute_result"
    }
   ],
   "source": [
    "list_attributes = {\n",
    "    'store': 'nominal',\n",
    "    'day_of_week': 'ordinal',\n",
    "    'date': 'nominal',\n",
    "    'sales': 'contínuo',\n",
    "    'customers': 'discreto',\n",
    "    'open': 'nominal',\n",
    "    'promo': 'nominal',\n",
    "    'state_holiday': 'nominal',\n",
    "    'school_holiday': 'nominal',\n",
    "    'store_type': 'nominal',\n",
    "    'assortment': 'ordinal',\n",
    "    'competition_distance': 'contínuo',\n",
    "    'competition_open_since_month': 'nominal',\n",
    "    'competition_open_since_year': 'nominal',\n",
    "    'promo2': 'nominal',\n",
    "    'promo2_since_week': 'nominal',\n",
    "    'promo2_since_year': 'nominal',\n",
    "    'promo_interval': 'nominal',\n",
    "    'month_map': 'nominal',\n",
    "    'is_promo': 'nominal'\n",
    "}\n",
    "\n",
    "df_dict = pd.DataFrame( list(list_attributes.items()), columns=['attribute', 'classe'] )\n",
    "df_dict"
   ]
  },
  {
   "cell_type": "code",
   "execution_count": 18,
   "id": "77def0ee-22bb-4d5c-ba43-cfc1d5fc6982",
   "metadata": {},
   "outputs": [
    {
     "data": {
      "text/html": [
       "<div>\n",
       "<style scoped>\n",
       "    .dataframe tbody tr th:only-of-type {\n",
       "        vertical-align: middle;\n",
       "    }\n",
       "\n",
       "    .dataframe tbody tr th {\n",
       "        vertical-align: top;\n",
       "    }\n",
       "\n",
       "    .dataframe thead th {\n",
       "        text-align: right;\n",
       "    }\n",
       "</style>\n",
       "<table border=\"1\" class=\"dataframe\">\n",
       "  <thead>\n",
       "    <tr style=\"text-align: right;\">\n",
       "      <th></th>\n",
       "      <th>attribute</th>\n",
       "      <th>classe</th>\n",
       "    </tr>\n",
       "  </thead>\n",
       "  <tbody>\n",
       "    <tr>\n",
       "      <th>0</th>\n",
       "      <td>store</td>\n",
       "      <td>nominal</td>\n",
       "    </tr>\n",
       "    <tr>\n",
       "      <th>1</th>\n",
       "      <td>day_of_week</td>\n",
       "      <td>ordinal</td>\n",
       "    </tr>\n",
       "    <tr>\n",
       "      <th>2</th>\n",
       "      <td>date</td>\n",
       "      <td>nominal</td>\n",
       "    </tr>\n",
       "    <tr>\n",
       "      <th>5</th>\n",
       "      <td>open</td>\n",
       "      <td>nominal</td>\n",
       "    </tr>\n",
       "    <tr>\n",
       "      <th>6</th>\n",
       "      <td>promo</td>\n",
       "      <td>nominal</td>\n",
       "    </tr>\n",
       "    <tr>\n",
       "      <th>7</th>\n",
       "      <td>state_holiday</td>\n",
       "      <td>nominal</td>\n",
       "    </tr>\n",
       "    <tr>\n",
       "      <th>8</th>\n",
       "      <td>school_holiday</td>\n",
       "      <td>nominal</td>\n",
       "    </tr>\n",
       "    <tr>\n",
       "      <th>9</th>\n",
       "      <td>store_type</td>\n",
       "      <td>nominal</td>\n",
       "    </tr>\n",
       "    <tr>\n",
       "      <th>10</th>\n",
       "      <td>assortment</td>\n",
       "      <td>ordinal</td>\n",
       "    </tr>\n",
       "    <tr>\n",
       "      <th>12</th>\n",
       "      <td>competition_open_since_month</td>\n",
       "      <td>nominal</td>\n",
       "    </tr>\n",
       "    <tr>\n",
       "      <th>13</th>\n",
       "      <td>competition_open_since_year</td>\n",
       "      <td>nominal</td>\n",
       "    </tr>\n",
       "    <tr>\n",
       "      <th>14</th>\n",
       "      <td>promo2</td>\n",
       "      <td>nominal</td>\n",
       "    </tr>\n",
       "    <tr>\n",
       "      <th>15</th>\n",
       "      <td>promo2_since_week</td>\n",
       "      <td>nominal</td>\n",
       "    </tr>\n",
       "    <tr>\n",
       "      <th>16</th>\n",
       "      <td>promo2_since_year</td>\n",
       "      <td>nominal</td>\n",
       "    </tr>\n",
       "    <tr>\n",
       "      <th>17</th>\n",
       "      <td>promo_interval</td>\n",
       "      <td>nominal</td>\n",
       "    </tr>\n",
       "    <tr>\n",
       "      <th>18</th>\n",
       "      <td>month_map</td>\n",
       "      <td>nominal</td>\n",
       "    </tr>\n",
       "    <tr>\n",
       "      <th>19</th>\n",
       "      <td>is_promo</td>\n",
       "      <td>nominal</td>\n",
       "    </tr>\n",
       "  </tbody>\n",
       "</table>\n",
       "</div>"
      ],
      "text/plain": [
       "                       attribute   classe\n",
       "0                          store  nominal\n",
       "1                    day_of_week  ordinal\n",
       "2                           date  nominal\n",
       "5                           open  nominal\n",
       "6                          promo  nominal\n",
       "7                  state_holiday  nominal\n",
       "8                 school_holiday  nominal\n",
       "9                     store_type  nominal\n",
       "10                    assortment  ordinal\n",
       "12  competition_open_since_month  nominal\n",
       "13   competition_open_since_year  nominal\n",
       "14                        promo2  nominal\n",
       "15             promo2_since_week  nominal\n",
       "16             promo2_since_year  nominal\n",
       "17                promo_interval  nominal\n",
       "18                     month_map  nominal\n",
       "19                      is_promo  nominal"
      ]
     },
     "execution_count": 18,
     "metadata": {},
     "output_type": "execute_result"
    }
   ],
   "source": [
    "cat_class = ['nominal', 'ordinal']\n",
    "cat_dict = df_dict[df_dict.classe.isin(cat_class)]\n",
    "cat_list = list(df_dict[df_dict.classe.isin(cat_class)]['attribute'])\n",
    "cat_dict"
   ]
  },
  {
   "cell_type": "code",
   "execution_count": 19,
   "id": "005839ea",
   "metadata": {
    "ExecuteTime": {
     "end_time": "2023-04-18T13:01:42.647142Z",
     "start_time": "2023-04-18T13:01:42.633550Z"
    }
   },
   "outputs": [
    {
     "data": {
      "text/plain": [
       "Index(['store', 'day_of_week', 'date', 'sales', 'customers', 'open', 'promo',\n",
       "       'state_holiday', 'school_holiday', 'store_type', 'assortment',\n",
       "       'competition_distance', 'competition_open_since_month',\n",
       "       'competition_open_since_year', 'promo2', 'promo2_since_week',\n",
       "       'promo2_since_year', 'promo_interval', 'month_map', 'is_promo'],\n",
       "      dtype='object')"
      ]
     },
     "execution_count": 19,
     "metadata": {},
     "output_type": "execute_result"
    }
   ],
   "source": [
    "df1.columns"
   ]
  },
  {
   "cell_type": "code",
   "execution_count": 20,
   "id": "b059a5e4",
   "metadata": {
    "ExecuteTime": {
     "end_time": "2023-04-18T13:01:42.769182Z",
     "start_time": "2023-04-18T13:01:42.653958Z"
    }
   },
   "outputs": [],
   "source": [
    "cat_class = ['nominal', 'ordinal']\n",
    "cat_dict = df_dict[df_dict.classe.isin(cat_class)]\n",
    "cat_list = list(df_dict[df_dict.classe.isin(cat_class)]['attribute'])\n",
    "cat_attributes = df1[cat_list]\n",
    "\n",
    "num_class = ['contínuo', 'discreto']\n",
    "num_dict = df_dict[df_dict.classe.isin(num_class)]\n",
    "num_list = list(df_dict[df_dict.classe.isin(num_class)]['attribute'])\n",
    "num_attributes = df1[num_list]\n",
    "\n",
    "# temp_class = ['temporal']\n",
    "# temp_dict = df_dict[df_dict.classe.isin(temp_class)]\n",
    "# temp_list = list(df_dict[df_dict.classe.isin(temp_class)]['attribute'])\n",
    "# temp_attributes = df1[temp_list]"
   ]
  },
  {
   "cell_type": "code",
   "execution_count": 21,
   "id": "1b9a7d44-4436-42dd-a874-97a7f879dfc1",
   "metadata": {},
   "outputs": [
    {
     "data": {
      "text/html": [
       "<div>\n",
       "<style scoped>\n",
       "    .dataframe tbody tr th:only-of-type {\n",
       "        vertical-align: middle;\n",
       "    }\n",
       "\n",
       "    .dataframe tbody tr th {\n",
       "        vertical-align: top;\n",
       "    }\n",
       "\n",
       "    .dataframe thead th {\n",
       "        text-align: right;\n",
       "    }\n",
       "</style>\n",
       "<table border=\"1\" class=\"dataframe\">\n",
       "  <thead>\n",
       "    <tr style=\"text-align: right;\">\n",
       "      <th></th>\n",
       "      <th>789344</th>\n",
       "      <th>33557</th>\n",
       "      <th>264400</th>\n",
       "      <th>351034</th>\n",
       "      <th>368821</th>\n",
       "    </tr>\n",
       "  </thead>\n",
       "  <tbody>\n",
       "    <tr>\n",
       "      <th>store</th>\n",
       "      <td>710</td>\n",
       "      <td>108</td>\n",
       "      <td>1079</td>\n",
       "      <td>703</td>\n",
       "      <td>731</td>\n",
       "    </tr>\n",
       "    <tr>\n",
       "      <th>day_of_week</th>\n",
       "      <td>3</td>\n",
       "      <td>3</td>\n",
       "      <td>2</td>\n",
       "      <td>7</td>\n",
       "      <td>2</td>\n",
       "    </tr>\n",
       "    <tr>\n",
       "      <th>date</th>\n",
       "      <td>2013-07-24 00:00:00</td>\n",
       "      <td>2015-07-01 00:00:00</td>\n",
       "      <td>2014-12-02 00:00:00</td>\n",
       "      <td>2014-08-31 00:00:00</td>\n",
       "      <td>2014-08-12 00:00:00</td>\n",
       "    </tr>\n",
       "    <tr>\n",
       "      <th>open</th>\n",
       "      <td>1</td>\n",
       "      <td>1</td>\n",
       "      <td>1</td>\n",
       "      <td>0</td>\n",
       "      <td>1</td>\n",
       "    </tr>\n",
       "    <tr>\n",
       "      <th>promo</th>\n",
       "      <td>0</td>\n",
       "      <td>1</td>\n",
       "      <td>1</td>\n",
       "      <td>0</td>\n",
       "      <td>0</td>\n",
       "    </tr>\n",
       "    <tr>\n",
       "      <th>state_holiday</th>\n",
       "      <td>0</td>\n",
       "      <td>0</td>\n",
       "      <td>0</td>\n",
       "      <td>0</td>\n",
       "      <td>0</td>\n",
       "    </tr>\n",
       "    <tr>\n",
       "      <th>school_holiday</th>\n",
       "      <td>0</td>\n",
       "      <td>0</td>\n",
       "      <td>0</td>\n",
       "      <td>0</td>\n",
       "      <td>1</td>\n",
       "    </tr>\n",
       "    <tr>\n",
       "      <th>store_type</th>\n",
       "      <td>d</td>\n",
       "      <td>d</td>\n",
       "      <td>a</td>\n",
       "      <td>a</td>\n",
       "      <td>a</td>\n",
       "    </tr>\n",
       "    <tr>\n",
       "      <th>assortment</th>\n",
       "      <td>a</td>\n",
       "      <td>c</td>\n",
       "      <td>a</td>\n",
       "      <td>a</td>\n",
       "      <td>a</td>\n",
       "    </tr>\n",
       "    <tr>\n",
       "      <th>competition_open_since_month</th>\n",
       "      <td>9.0</td>\n",
       "      <td>9.0</td>\n",
       "      <td>12.0</td>\n",
       "      <td>6.0</td>\n",
       "      <td>8.0</td>\n",
       "    </tr>\n",
       "    <tr>\n",
       "      <th>competition_open_since_year</th>\n",
       "      <td>2008.0</td>\n",
       "      <td>2003.0</td>\n",
       "      <td>2014.0</td>\n",
       "      <td>2005.0</td>\n",
       "      <td>2014.0</td>\n",
       "    </tr>\n",
       "    <tr>\n",
       "      <th>promo2</th>\n",
       "      <td>1</td>\n",
       "      <td>0</td>\n",
       "      <td>1</td>\n",
       "      <td>0</td>\n",
       "      <td>1</td>\n",
       "    </tr>\n",
       "    <tr>\n",
       "      <th>promo2_since_week</th>\n",
       "      <td>14.0</td>\n",
       "      <td>27.0</td>\n",
       "      <td>37.0</td>\n",
       "      <td>35.0</td>\n",
       "      <td>10.0</td>\n",
       "    </tr>\n",
       "    <tr>\n",
       "      <th>promo2_since_year</th>\n",
       "      <td>2011.0</td>\n",
       "      <td>2015.0</td>\n",
       "      <td>2009.0</td>\n",
       "      <td>2014.0</td>\n",
       "      <td>2014.0</td>\n",
       "    </tr>\n",
       "    <tr>\n",
       "      <th>promo_interval</th>\n",
       "      <td>Jan,Apr,Jul,Oct</td>\n",
       "      <td>0</td>\n",
       "      <td>Jan,Apr,Jul,Oct</td>\n",
       "      <td>0</td>\n",
       "      <td>Jan,Apr,Jul,Oct</td>\n",
       "    </tr>\n",
       "    <tr>\n",
       "      <th>month_map</th>\n",
       "      <td>Jul</td>\n",
       "      <td>Jul</td>\n",
       "      <td>Dec</td>\n",
       "      <td>Aug</td>\n",
       "      <td>Aug</td>\n",
       "    </tr>\n",
       "    <tr>\n",
       "      <th>is_promo</th>\n",
       "      <td>1</td>\n",
       "      <td>0</td>\n",
       "      <td>0</td>\n",
       "      <td>0</td>\n",
       "      <td>0</td>\n",
       "    </tr>\n",
       "  </tbody>\n",
       "</table>\n",
       "</div>"
      ],
      "text/plain": [
       "                                           789344               33557                264400               351034               368821\n",
       "store                                         710                  108                 1079                  703                  731\n",
       "day_of_week                                     3                    3                    2                    7                    2\n",
       "date                          2013-07-24 00:00:00  2015-07-01 00:00:00  2014-12-02 00:00:00  2014-08-31 00:00:00  2014-08-12 00:00:00\n",
       "open                                            1                    1                    1                    0                    1\n",
       "promo                                           0                    1                    1                    0                    0\n",
       "state_holiday                                   0                    0                    0                    0                    0\n",
       "school_holiday                                  0                    0                    0                    0                    1\n",
       "store_type                                      d                    d                    a                    a                    a\n",
       "assortment                                      a                    c                    a                    a                    a\n",
       "competition_open_since_month                  9.0                  9.0                 12.0                  6.0                  8.0\n",
       "competition_open_since_year                2008.0               2003.0               2014.0               2005.0               2014.0\n",
       "promo2                                          1                    0                    1                    0                    1\n",
       "promo2_since_week                            14.0                 27.0                 37.0                 35.0                 10.0\n",
       "promo2_since_year                          2011.0               2015.0               2009.0               2014.0               2014.0\n",
       "promo_interval                    Jan,Apr,Jul,Oct                    0      Jan,Apr,Jul,Oct                    0      Jan,Apr,Jul,Oct\n",
       "month_map                                     Jul                  Jul                  Dec                  Aug                  Aug\n",
       "is_promo                                        1                    0                    0                    0                    0"
      ]
     },
     "execution_count": 21,
     "metadata": {},
     "output_type": "execute_result"
    }
   ],
   "source": [
    "cat_attributes.sample(5).T"
   ]
  },
  {
   "cell_type": "markdown",
   "id": "79404728",
   "metadata": {},
   "source": [
    "### Atributos Numéricos"
   ]
  },
  {
   "cell_type": "code",
   "execution_count": 22,
   "id": "c430938c",
   "metadata": {
    "ExecuteTime": {
     "end_time": "2023-04-18T13:01:42.858939Z",
     "start_time": "2023-04-18T13:01:42.775064Z"
    }
   },
   "outputs": [
    {
     "data": {
      "text/html": [
       "<div>\n",
       "<style scoped>\n",
       "    .dataframe tbody tr th:only-of-type {\n",
       "        vertical-align: middle;\n",
       "    }\n",
       "\n",
       "    .dataframe tbody tr th {\n",
       "        vertical-align: top;\n",
       "    }\n",
       "\n",
       "    .dataframe thead th {\n",
       "        text-align: right;\n",
       "    }\n",
       "</style>\n",
       "<table border=\"1\" class=\"dataframe\">\n",
       "  <thead>\n",
       "    <tr style=\"text-align: right;\">\n",
       "      <th></th>\n",
       "      <th>740648</th>\n",
       "      <th>202288</th>\n",
       "      <th>640093</th>\n",
       "      <th>560323</th>\n",
       "      <th>72481</th>\n",
       "      <th>809965</th>\n",
       "      <th>351101</th>\n",
       "      <th>363750</th>\n",
       "      <th>607568</th>\n",
       "      <th>580590</th>\n",
       "    </tr>\n",
       "  </thead>\n",
       "  <tbody>\n",
       "    <tr>\n",
       "      <th>sales</th>\n",
       "      <td>4226.0</td>\n",
       "      <td>4778.0</td>\n",
       "      <td>9124.0</td>\n",
       "      <td>6100.0</td>\n",
       "      <td>8567.0</td>\n",
       "      <td>8324.0</td>\n",
       "      <td>0.0</td>\n",
       "      <td>0.0</td>\n",
       "      <td>10105.0</td>\n",
       "      <td>3411.0</td>\n",
       "    </tr>\n",
       "    <tr>\n",
       "      <th>customers</th>\n",
       "      <td>531.0</td>\n",
       "      <td>485.0</td>\n",
       "      <td>1173.0</td>\n",
       "      <td>882.0</td>\n",
       "      <td>890.0</td>\n",
       "      <td>762.0</td>\n",
       "      <td>0.0</td>\n",
       "      <td>0.0</td>\n",
       "      <td>1152.0</td>\n",
       "      <td>383.0</td>\n",
       "    </tr>\n",
       "    <tr>\n",
       "      <th>competition_distance</th>\n",
       "      <td>3330.0</td>\n",
       "      <td>14810.0</td>\n",
       "      <td>230.0</td>\n",
       "      <td>180.0</td>\n",
       "      <td>24000.0</td>\n",
       "      <td>8050.0</td>\n",
       "      <td>560.0</td>\n",
       "      <td>80.0</td>\n",
       "      <td>4140.0</td>\n",
       "      <td>1790.0</td>\n",
       "    </tr>\n",
       "  </tbody>\n",
       "</table>\n",
       "</div>"
      ],
      "text/plain": [
       "                      740648   202288  640093  560323   72481   809965  351101  363750   607568  580590\n",
       "sales                 4226.0   4778.0  9124.0  6100.0   8567.0  8324.0     0.0     0.0  10105.0  3411.0\n",
       "customers              531.0    485.0  1173.0   882.0    890.0   762.0     0.0     0.0   1152.0   383.0\n",
       "competition_distance  3330.0  14810.0   230.0   180.0  24000.0  8050.0   560.0    80.0   4140.0  1790.0"
      ]
     },
     "execution_count": 22,
     "metadata": {},
     "output_type": "execute_result"
    }
   ],
   "source": [
    "num_attributes.sample(10).T"
   ]
  },
  {
   "cell_type": "code",
   "execution_count": 23,
   "id": "7024eb37",
   "metadata": {
    "ExecuteTime": {
     "end_time": "2023-04-18T13:01:44.325843Z",
     "start_time": "2023-04-18T13:01:42.865246Z"
    }
   },
   "outputs": [
    {
     "data": {
      "text/html": [
       "<div>\n",
       "<style scoped>\n",
       "    .dataframe tbody tr th:only-of-type {\n",
       "        vertical-align: middle;\n",
       "    }\n",
       "\n",
       "    .dataframe tbody tr th {\n",
       "        vertical-align: top;\n",
       "    }\n",
       "\n",
       "    .dataframe thead th {\n",
       "        text-align: right;\n",
       "    }\n",
       "</style>\n",
       "<table border=\"1\" class=\"dataframe\">\n",
       "  <thead>\n",
       "    <tr style=\"text-align: right;\">\n",
       "      <th></th>\n",
       "      <th>attributes</th>\n",
       "      <th>min</th>\n",
       "      <th>max</th>\n",
       "      <th>range</th>\n",
       "      <th>mean</th>\n",
       "      <th>median</th>\n",
       "      <th>std</th>\n",
       "      <th>skew</th>\n",
       "      <th>kurtosis</th>\n",
       "      <th>qtile 0.25</th>\n",
       "      <th>qtile 0.50</th>\n",
       "      <th>qtile 0.75</th>\n",
       "      <th>qtile 1</th>\n",
       "    </tr>\n",
       "  </thead>\n",
       "  <tbody>\n",
       "    <tr>\n",
       "      <th>0</th>\n",
       "      <td>sales</td>\n",
       "      <td>0.0</td>\n",
       "      <td>41551.0</td>\n",
       "      <td>41551.0</td>\n",
       "      <td>5773.818972</td>\n",
       "      <td>5744.0</td>\n",
       "      <td>3849.924283</td>\n",
       "      <td>0.641460</td>\n",
       "      <td>1.778375</td>\n",
       "      <td>3727.0</td>\n",
       "      <td>5744.0</td>\n",
       "      <td>7856.0</td>\n",
       "      <td>41551.0</td>\n",
       "    </tr>\n",
       "    <tr>\n",
       "      <th>1</th>\n",
       "      <td>customers</td>\n",
       "      <td>0.0</td>\n",
       "      <td>7388.0</td>\n",
       "      <td>7388.0</td>\n",
       "      <td>633.145946</td>\n",
       "      <td>609.0</td>\n",
       "      <td>464.411506</td>\n",
       "      <td>1.598650</td>\n",
       "      <td>7.091773</td>\n",
       "      <td>405.0</td>\n",
       "      <td>609.0</td>\n",
       "      <td>837.0</td>\n",
       "      <td>7388.0</td>\n",
       "    </tr>\n",
       "    <tr>\n",
       "      <th>2</th>\n",
       "      <td>competition_distance</td>\n",
       "      <td>20.0</td>\n",
       "      <td>75860.0</td>\n",
       "      <td>75840.0</td>\n",
       "      <td>5421.176681</td>\n",
       "      <td>2320.0</td>\n",
       "      <td>7707.271425</td>\n",
       "      <td>2.933327</td>\n",
       "      <td>13.038886</td>\n",
       "      <td>710.0</td>\n",
       "      <td>2320.0</td>\n",
       "      <td>6880.0</td>\n",
       "      <td>75860.0</td>\n",
       "    </tr>\n",
       "  </tbody>\n",
       "</table>\n",
       "</div>"
      ],
      "text/plain": [
       "             attributes   min      max    range         mean  median          std      skew   kurtosis  qtile 0.25  qtile 0.50  qtile 0.75  qtile 1\n",
       "0                 sales   0.0  41551.0  41551.0  5773.818972  5744.0  3849.924283  0.641460   1.778375      3727.0      5744.0      7856.0  41551.0\n",
       "1             customers   0.0   7388.0   7388.0   633.145946   609.0   464.411506  1.598650   7.091773       405.0       609.0       837.0   7388.0\n",
       "2  competition_distance  20.0  75860.0  75840.0  5421.176681  2320.0  7707.271425  2.933327  13.038886       710.0      2320.0      6880.0  75860.0"
      ]
     },
     "execution_count": 23,
     "metadata": {},
     "output_type": "execute_result"
    }
   ],
   "source": [
    "# Tendência Central - média, mediana\n",
    "m = None\n",
    "tc1 = pd.DataFrame( num_attributes.apply( np.mean ) ).T\n",
    "tc2 = pd.DataFrame( num_attributes.apply( np.median ) ).T\n",
    "\n",
    "# Dispersão - desvio padrão, min, max, range, skew, kurtosis\n",
    "d1 = pd.DataFrame( num_attributes.apply( np.std ) ).T\n",
    "d2 = pd.DataFrame( num_attributes.apply( min ) ).T\n",
    "d3 = pd.DataFrame( num_attributes.apply( max ) ).T\n",
    "d4 = pd.DataFrame( num_attributes.apply( lambda x: x.max() - x.min() ) ).T\n",
    "d5 = pd.DataFrame( num_attributes.apply( lambda x: x.skew() ) ).T\n",
    "d6 = pd.DataFrame( num_attributes.apply( lambda x: x.kurtosis() ) ).T\n",
    "\n",
    "d7 = pd.DataFrame( num_attributes.apply( lambda x: x.quantile( [0.25] ).to_list()[0] ) ).T\n",
    "d8 = pd.DataFrame( num_attributes.apply( lambda x: x.quantile( [0.50] ).to_list()[0] ) ).T\n",
    "d9 = pd.DataFrame( num_attributes.apply( lambda x: x.quantile( [0.75] ).to_list()[0] ) ).T\n",
    "d10 = pd.DataFrame( num_attributes.apply( lambda x: x.quantile( [1] ).to_list()[0] ) ).T\n",
    "\n",
    "# Concatenação\n",
    "m = pd.concat( [d2, d3, d4, tc1, tc2, d1, d5, d6, d7, d8, d9, d10] ).T.reset_index()\n",
    "m.columns = ['attributes', 'min', 'max', 'range', 'mean', 'median', 'std', 'skew', 'kurtosis', 'qtile 0.25', 'qtile 0.50', 'qtile 0.75', 'qtile 1']\n",
    "\n",
    "m"
   ]
  },
  {
   "cell_type": "code",
   "execution_count": 24,
   "id": "e2a681fc",
   "metadata": {},
   "outputs": [
    {
     "data": {
      "image/png": "[encoded data removed]",
      "text/plain": [
       "<Figure size 2500x1200 with 6 Axes>"
      ]
     },
     "metadata": {},
     "output_type": "display_data"
    }
   ],
   "source": [
    "plt.subplot(3, 3, 1)\n",
    "sns.distplot( df1['sales'] );\n",
    "\n",
    "plt.subplot(3, 3, 2)\n",
    "sns.distplot( df1['customers'] );\n",
    "\n",
    "plt.subplot(3, 3, 3)\n",
    "sns.distplot( df1['competition_distance'] );\n",
    "\n",
    "plt.subplot(3, 3, 4)\n",
    "sns.boxplot(x=df1['sales']);\n",
    "\n",
    "plt.subplot(3, 3, 5)\n",
    "sns.boxplot(x=df1['customers']);\n",
    "\n",
    "plt.subplot(3, 3, 6)\n",
    "sns.boxplot(x=df1['competition_distance']);\n",
    "\n",
    "\n",
    "# sns.regplot(x=df1[\"sales\"], y=df1[\"customers\"])"
   ]
  },
  {
   "cell_type": "markdown",
   "id": "88c70eff",
   "metadata": {},
   "source": [
    "### Atributos Categóricos"
   ]
  },
  {
   "cell_type": "code",
   "execution_count": 25,
   "id": "e93fb19a",
   "metadata": {
    "ExecuteTime": {
     "end_time": "2023-04-18T13:01:44.411870Z",
     "start_time": "2023-04-18T13:01:44.331717Z"
    }
   },
   "outputs": [
    {
     "data": {
      "text/html": [
       "<div>\n",
       "<style scoped>\n",
       "    .dataframe tbody tr th:only-of-type {\n",
       "        vertical-align: middle;\n",
       "    }\n",
       "\n",
       "    .dataframe tbody tr th {\n",
       "        vertical-align: top;\n",
       "    }\n",
       "\n",
       "    .dataframe thead th {\n",
       "        text-align: right;\n",
       "    }\n",
       "</style>\n",
       "<table border=\"1\" class=\"dataframe\">\n",
       "  <thead>\n",
       "    <tr style=\"text-align: right;\">\n",
       "      <th></th>\n",
       "      <th>750967</th>\n",
       "      <th>483503</th>\n",
       "      <th>343335</th>\n",
       "      <th>144582</th>\n",
       "      <th>60051</th>\n",
       "    </tr>\n",
       "  </thead>\n",
       "  <tbody>\n",
       "    <tr>\n",
       "      <th>store</th>\n",
       "      <td>243</td>\n",
       "      <td>379</td>\n",
       "      <td>438</td>\n",
       "      <td>748</td>\n",
       "      <td>957</td>\n",
       "    </tr>\n",
       "    <tr>\n",
       "      <th>day_of_week</th>\n",
       "      <td>2</td>\n",
       "      <td>4</td>\n",
       "      <td>1</td>\n",
       "      <td>2</td>\n",
       "      <td>1</td>\n",
       "    </tr>\n",
       "    <tr>\n",
       "      <th>date</th>\n",
       "      <td>2013-08-27 00:00:00</td>\n",
       "      <td>2014-04-24 00:00:00</td>\n",
       "      <td>2014-09-08 00:00:00</td>\n",
       "      <td>2015-03-24 00:00:00</td>\n",
       "      <td>2015-06-08 00:00:00</td>\n",
       "    </tr>\n",
       "    <tr>\n",
       "      <th>open</th>\n",
       "      <td>1</td>\n",
       "      <td>1</td>\n",
       "      <td>1</td>\n",
       "      <td>1</td>\n",
       "      <td>1</td>\n",
       "    </tr>\n",
       "    <tr>\n",
       "      <th>promo</th>\n",
       "      <td>1</td>\n",
       "      <td>0</td>\n",
       "      <td>0</td>\n",
       "      <td>0</td>\n",
       "      <td>0</td>\n",
       "    </tr>\n",
       "    <tr>\n",
       "      <th>state_holiday</th>\n",
       "      <td>0</td>\n",
       "      <td>0</td>\n",
       "      <td>0</td>\n",
       "      <td>0</td>\n",
       "      <td>0</td>\n",
       "    </tr>\n",
       "    <tr>\n",
       "      <th>school_holiday</th>\n",
       "      <td>1</td>\n",
       "      <td>0</td>\n",
       "      <td>0</td>\n",
       "      <td>0</td>\n",
       "      <td>0</td>\n",
       "    </tr>\n",
       "    <tr>\n",
       "      <th>store_type</th>\n",
       "      <td>a</td>\n",
       "      <td>d</td>\n",
       "      <td>d</td>\n",
       "      <td>d</td>\n",
       "      <td>d</td>\n",
       "    </tr>\n",
       "    <tr>\n",
       "      <th>assortment</th>\n",
       "      <td>a</td>\n",
       "      <td>a</td>\n",
       "      <td>c</td>\n",
       "      <td>a</td>\n",
       "      <td>c</td>\n",
       "    </tr>\n",
       "    <tr>\n",
       "      <th>competition_open_since_month</th>\n",
       "      <td>8.0</td>\n",
       "      <td>4.0</td>\n",
       "      <td>9.0</td>\n",
       "      <td>3.0</td>\n",
       "      <td>11.0</td>\n",
       "    </tr>\n",
       "    <tr>\n",
       "      <th>competition_open_since_year</th>\n",
       "      <td>2013.0</td>\n",
       "      <td>2014.0</td>\n",
       "      <td>2014.0</td>\n",
       "      <td>2010.0</td>\n",
       "      <td>2012.0</td>\n",
       "    </tr>\n",
       "    <tr>\n",
       "      <th>promo2</th>\n",
       "      <td>1</td>\n",
       "      <td>0</td>\n",
       "      <td>1</td>\n",
       "      <td>1</td>\n",
       "      <td>0</td>\n",
       "    </tr>\n",
       "    <tr>\n",
       "      <th>promo2_since_week</th>\n",
       "      <td>5.0</td>\n",
       "      <td>17.0</td>\n",
       "      <td>40.0</td>\n",
       "      <td>14.0</td>\n",
       "      <td>24.0</td>\n",
       "    </tr>\n",
       "    <tr>\n",
       "      <th>promo2_since_year</th>\n",
       "      <td>2013.0</td>\n",
       "      <td>2014.0</td>\n",
       "      <td>2012.0</td>\n",
       "      <td>2011.0</td>\n",
       "      <td>2015.0</td>\n",
       "    </tr>\n",
       "    <tr>\n",
       "      <th>promo_interval</th>\n",
       "      <td>Feb,May,Aug,Nov</td>\n",
       "      <td>0</td>\n",
       "      <td>Jan,Apr,Jul,Oct</td>\n",
       "      <td>Jan,Apr,Jul,Oct</td>\n",
       "      <td>0</td>\n",
       "    </tr>\n",
       "    <tr>\n",
       "      <th>month_map</th>\n",
       "      <td>Aug</td>\n",
       "      <td>Apr</td>\n",
       "      <td>Sep</td>\n",
       "      <td>Mar</td>\n",
       "      <td>Jun</td>\n",
       "    </tr>\n",
       "    <tr>\n",
       "      <th>is_promo</th>\n",
       "      <td>1</td>\n",
       "      <td>0</td>\n",
       "      <td>0</td>\n",
       "      <td>0</td>\n",
       "      <td>0</td>\n",
       "    </tr>\n",
       "  </tbody>\n",
       "</table>\n",
       "</div>"
      ],
      "text/plain": [
       "                                           750967               483503               343335               144582               60051 \n",
       "store                                         243                  379                  438                  748                  957\n",
       "day_of_week                                     2                    4                    1                    2                    1\n",
       "date                          2013-08-27 00:00:00  2014-04-24 00:00:00  2014-09-08 00:00:00  2015-03-24 00:00:00  2015-06-08 00:00:00\n",
       "open                                            1                    1                    1                    1                    1\n",
       "promo                                           1                    0                    0                    0                    0\n",
       "state_holiday                                   0                    0                    0                    0                    0\n",
       "school_holiday                                  1                    0                    0                    0                    0\n",
       "store_type                                      a                    d                    d                    d                    d\n",
       "assortment                                      a                    a                    c                    a                    c\n",
       "competition_open_since_month                  8.0                  4.0                  9.0                  3.0                 11.0\n",
       "competition_open_since_year                2013.0               2014.0               2014.0               2010.0               2012.0\n",
       "promo2                                          1                    0                    1                    1                    0\n",
       "promo2_since_week                             5.0                 17.0                 40.0                 14.0                 24.0\n",
       "promo2_since_year                          2013.0               2014.0               2012.0               2011.0               2015.0\n",
       "promo_interval                    Feb,May,Aug,Nov                    0      Jan,Apr,Jul,Oct      Jan,Apr,Jul,Oct                    0\n",
       "month_map                                     Aug                  Apr                  Sep                  Mar                  Jun\n",
       "is_promo                                        1                    0                    0                    0                    0"
      ]
     },
     "execution_count": 25,
     "metadata": {},
     "output_type": "execute_result"
    }
   ],
   "source": [
    "cat_attributes.sample(5).T"
   ]
  },
  {
   "cell_type": "code",
   "execution_count": 26,
   "id": "625e178f",
   "metadata": {
    "ExecuteTime": {
     "end_time": "2023-04-18T13:01:44.707403Z",
     "start_time": "2023-04-18T13:01:44.419362Z"
    }
   },
   "outputs": [
    {
     "data": {
      "text/plain": [
       "store                           1115\n",
       "day_of_week                        7\n",
       "date                             942\n",
       "open                               2\n",
       "promo                              2\n",
       "state_holiday                      4\n",
       "school_holiday                     2\n",
       "store_type                         4\n",
       "assortment                         3\n",
       "competition_open_since_month      12\n",
       "competition_open_since_year       23\n",
       "promo2                             2\n",
       "promo2_since_week                 52\n",
       "promo2_since_year                  7\n",
       "promo_interval                     4\n",
       "month_map                         12\n",
       "is_promo                           2\n",
       "dtype: int64"
      ]
     },
     "execution_count": 26,
     "metadata": {},
     "output_type": "execute_result"
    }
   ],
   "source": [
    "cat_attributes.apply( lambda x: x.unique().shape[0] )"
   ]
  },
  {
   "cell_type": "code",
   "execution_count": 27,
   "id": "11a04c3f",
   "metadata": {},
   "outputs": [],
   "source": [
    "aux1 = df1[( df1['state_holiday'] != '0' ) & ( df1['sales'] > 0 )]"
   ]
  },
  {
   "cell_type": "code",
   "execution_count": 28,
   "id": "e19bfc09",
   "metadata": {},
   "outputs": [
    {
     "data": {
      "image/png": "[encoded data removed]",
      "text/plain": [
       "<Figure size 2500x1200 with 4 Axes>"
      ]
     },
     "metadata": {},
     "output_type": "display_data"
    }
   ],
   "source": [
    "plt.subplot(2,3,1)\n",
    "sns.boxplot(x='state_holiday', y='sales', data=aux1);\n",
    "\n",
    "plt.subplot(2,3,2)\n",
    "sns.boxplot(x='store_type', y='sales', data=aux1);\n",
    "\n",
    "plt.subplot(2,3,3)\n",
    "sns.boxplot(x='assortment', y='sales', data=aux1);\n",
    "\n",
    "plt.subplot(2,3,4)\n",
    "sns.boxplot(x='day_of_week', y='sales', data=aux1);"
   ]
  },
  {
   "cell_type": "markdown",
   "id": "1d1b6ab9",
   "metadata": {},
   "source": [
    "# FEATURA ENGINEERING"
   ]
  },
  {
   "cell_type": "code",
   "execution_count": 47,
   "id": "49e364f0-ca4a-4a15-b25b-b830ccde3583",
   "metadata": {},
   "outputs": [],
   "source": [
    "df2 = df1.copy()"
   ]
  },
  {
   "cell_type": "markdown",
   "id": "369e32a3-9883-4224-9718-2595373c9253",
   "metadata": {},
   "source": [
    "Problema: A análise exploratória de dados é um passo que pode ser tão complicado e tão detalhado quanto você queira.\n",
    "\n",
    "Causa: Existem milhares de formas de você fazer uma análise exploratória de dados e existem vários níveis de profundidade - ou vários níveis - de detalhamento que você pode chegar. O problema que isso causa é gastar muito tempo neste passo."
   ]
  },
  {
   "cell_type": "markdown",
   "id": "07519187-8787-4a02-809c-4c6498cee6a7",
   "metadata": {
    "jp-MarkdownHeadingCollapsed": true
   },
   "source": [
    "## Mapa mental de hipóteses"
   ]
  },
  {
   "cell_type": "markdown",
   "id": "43ea38a2-7fea-4a96-9604-9eed6ba27fa3",
   "metadata": {},
   "source": [
    "No mundo real, o mapa mental de hipóteses é criado a partir de um brainstorm com as pessoas das áreas de negócio.\n",
    "\n",
    "> *\"Do seu ponto de vista ou do ponto de vista do seu time, quais são <br>\n",
    "as alavancas ou o que você faz no seu dia-a-dia que impacta as vendas?\"*\n",
    "\n"
   ]
  },
  {
   "cell_type": "code",
   "execution_count": 29,
   "id": "4f97ef4b-6e27-4fe2-b36c-eb32beb6380c",
   "metadata": {},
   "outputs": [
    {
     "data": {
      "image/png": "[encoded data removed]",
      "text/plain": [
       "<IPython.core.display.Image object>"
      ]
     },
     "execution_count": 29,
     "metadata": {},
     "output_type": "execute_result"
    }
   ],
   "source": [
    "Image('../img/mapa_mental_hipoteses.png')"
   ]
  },
  {
   "cell_type": "markdown",
   "id": "90c19c11-67ff-45cc-8c5b-9b7c927daf69",
   "metadata": {},
   "source": [
    "## Criação das Hipóteses"
   ]
  },
  {
   "cell_type": "markdown",
   "id": "abc16674-54c7-4e35-9418-91c26515c5ca",
   "metadata": {},
   "source": [
    "Hipóteses são APOSTAS. É o que você acha sobre alguma coisa.\n",
    "\n",
    "Exemplo:\n",
    "- *Lojas* de <span style=\"color:blue\">**MAIOR**</span> <span style=\"color:orange\">**PORTE**</span> deveriam <span style=\"color:orange\">**VENDER**</span> <span style=\"color:blue\">**MAIS.**</span>\n",
    "\n",
    "<span style=\"color:orange\">**PORTE**</span> é uma entidade da *loja*. </br>\n",
    "<span style=\"color:orange\">**VENDER**</span> é a variável resposta, o fenômeno que eu estou tentando modelar. </br>\n",
    "As palavras azuis, <span style=\"color:blue\">**MAIOR**</span> e <span style=\"color:blue\">**MAIS**</span>, são as minhas apostas.\n",
    "\n",
    "Estou pegando cada atributo do meu conjunto de dados e estou tentando relacionar ele com a variável resposta (correlação e não causa e feito).\n",
    "\n",
    "- *Lojas* com <span style=\"color:blue\">**MAIOR**</span> <span style=\"color:orange\">**SORTIMENTO**</span> deveriam <span style=\"color:orange\">**VENDER**</span> <span style=\"color:blue\">**MAIS.**</span></br>\n",
    "- *Lojas* com <span style=\"color:blue\">**MAIS**</span> <span style=\"color:orange\">**COMPETIDORES**</span> deveriam <span style=\"color:orange\">**VENDER**</span> <span style=\"color:blue\">**MENOS.**</span>"
   ]
  },
  {
   "cell_type": "markdown",
   "id": "27f4c01e-5496-4847-ade6-7c4c0b00c052",
   "metadata": {},
   "source": [
    "### Hipóteses Loja"
   ]
  },
  {
   "cell_type": "markdown",
   "id": "8da01202-1dd8-4e97-b9b4-8727badbe1dc",
   "metadata": {},
   "source": [
    "~**1.** Lojas com número maior de funcionários deveriam vender mais.~\n",
    "\n",
    "~**2.** Lojas com maior capacidade de estoque deveriam vender mais.~\n",
    "\n",
    "~**3.** Lojas com maior porte deveriam vender mais.~\n",
    "\n",
    "**4.** Lojas com maior sortimentos deveriam vender mais.\n",
    "\n",
    "**5.** Lojas com competidores mais próximos deveriam vender menos.\n",
    "\n",
    "**6.** Lojas com competidores à mais tempo deveriam vendem mais."
   ]
  },
  {
   "cell_type": "markdown",
   "id": "7fbb3512-e273-4f22-82e4-6a353b625c29",
   "metadata": {},
   "source": [
    "### Hipóteses Produto"
   ]
  },
  {
   "cell_type": "markdown",
   "id": "420006c4-20f6-4d47-8f85-6ed15176e694",
   "metadata": {},
   "source": [
    "~**1.** Lojas que investem mais em Marketing deveriam vender mais.~\n",
    "\n",
    "~**2.** Lojas com maior exposição de produto deveriam vender mais.~\n",
    "\n",
    "~**3.** Lojas com produtos com preço menor deveriam vender mais.~\n",
    "\n",
    "~**5.** Lojas com promoções mais agressivas (descontos maiores), deveriam vender mais.~\n",
    "\n",
    "**6.** Lojas com promoções ativas por mais tempo deveriam vender mais.\n",
    "\n",
    "**7.** Lojas com mais dias de promoção deveriam vender mais.\n",
    "\n",
    "**8.** Lojas com mais promoções consecutivas deveriam vender mais."
   ]
  },
  {
   "cell_type": "markdown",
   "id": "a7fa7a61-163d-4e5e-af71-65d34570e117",
   "metadata": {},
   "source": [
    "### Hipóteses Temporal"
   ]
  },
  {
   "cell_type": "markdown",
   "id": "57880670-a745-4488-a579-72568aa4a25b",
   "metadata": {},
   "source": [
    "**1.** Lojas abertas durante o feriado de Natal deveriam vender mais.\n",
    "\n",
    "**2.** Lojas deveriam vender mais ao longo dos anos.\n",
    "\n",
    "**3.** Lojas deveriam vender mais no segundo semestre do ano.\n",
    "\n",
    "**4.** Lojas deveriam vender mais depois do dia 10 de cada mês.\n",
    "\n",
    "**5.** Lojas deveriam vender menos aos finais de semana.\n",
    "\n",
    "**6.** Lojas deveriam vender menos durante os feriados escolares."
   ]
  },
  {
   "cell_type": "markdown",
   "id": "e785acd1-2675-4d92-be96-9299a6646a14",
   "metadata": {},
   "source": [
    "### Lista final de hipóteses"
   ]
  },
  {
   "cell_type": "markdown",
   "id": "2f5fafca-1bcd-4cd0-86f9-2877d778473e",
   "metadata": {},
   "source": [
    "**1.** Lojas com maior sortimentos deveriam vender mais.\n",
    "\n",
    "**2.** Lojas com competidores mais próximos deveriam vender menos.\n",
    "\n",
    "**3.** Lojas com competidores à mais tempo deveriam vendem mais.\n",
    "\n",
    "**4.** Lojas com promoções ativas por mais tempo deveriam vender mais.\n",
    "\n",
    "**5.** Lojas com mais dias de promoção deveriam vender mais.\n",
    "\n",
    "**6.** Lojas com mais promoções consecutivas deveriam vender mais.\n",
    "\n",
    "**7.** Lojas abertas durante o feriado de Natal deveriam vender mais.\n",
    "\n",
    "**8.** Lojas deveriam vender mais ao longo dos anos.\n",
    "\n",
    "**9.** Lojas deveriam vender mais no segundo semestre do ano.\n",
    "\n",
    "**10.** Lojas deveriam vender mais depois do dia 10 de cada mês.\n",
    "\n",
    "**11.** Lojas deveriam vender menos aos finais de semana.\n",
    "\n",
    "**12.** Lojas deveriam vender menos durante os feriados escolares."
   ]
  },
  {
   "cell_type": "markdown",
   "id": "b3ddec15-8b93-4b40-894b-564ee4a663f6",
   "metadata": {},
   "source": [
    "## Feature Engineering"
   ]
  },
  {
   "cell_type": "code",
   "execution_count": 52,
   "id": "4a5e6d1c-34b4-437d-9f70-0eddbd66a17f",
   "metadata": {},
   "outputs": [],
   "source": [
    "# year\n",
    "df2['year'] = df2['date'].dt.year\n",
    "# month\n",
    "df2['month'] = df2['date'].dt.month\n",
    "# day\n",
    "df2['day'] = df2['date'].dt.day\n",
    "# week of year\n",
    "df2['week_of_year'] = df2['date'].dt.strftime( '%V' )\n",
    "# year week\n",
    "df2['year_week'] = df2['date'].dt.strftime( '%Y-%W' )\n",
    "\n",
    "# competition since\n",
    "df2['competition_since'] = df2.apply( lambda x: datetime.datetime( year=x['competition_open_since_year'], month=x['competition_open_since_month'], day=1 ), axis=1 )\n",
    "df2['competition_time_month'] = ( ( df2['date'] - df2['competition_since'] ) / 30 ).apply( lambda x: x.days ).astype( int ) \n",
    "# promo since\n",
    "df2['promo_since'] = df2['promo2_since_year'].astype( str ) + '-' + df2['promo2_since_week'].astype( str )\n",
    "df2['promo_since'] = df2['promo_since'].apply( lambda x: datetime.datetime.strptime( x + '-1', '%Y-%W-%w' ) - datetime.timedelta( days=7 ) )\n",
    "df2['promo_time_week'] = ( ( df2['date'] - df2['promo_since'] ) / 7 ).apply( lambda x: x.days ).astype( int )\n",
    "\n",
    "# assortment\n",
    "df2['assortment'] = df2['assortment'].apply( lambda x: 'basic' if x == 'a' else 'extra' if x =='b' else 'extended' )\n",
    "# state holiday\n",
    "df2['state_holiday'] = df2['state_holiday'].apply( lambda x: 'public_holiday' if x == 'a' else 'easter_holiday' if x == 'b' else 'christmas' if x == 'c' else 'regular_day' )\n",
    "\n"
   ]
  },
  {
   "cell_type": "code",
   "execution_count": 53,
   "id": "d39a7296-ede5-41bb-8637-22330181ee0c",
   "metadata": {},
   "outputs": [
    {
     "data": {
      "text/html": [
       "<div>\n",
       "<style scoped>\n",
       "    .dataframe tbody tr th:only-of-type {\n",
       "        vertical-align: middle;\n",
       "    }\n",
       "\n",
       "    .dataframe tbody tr th {\n",
       "        vertical-align: top;\n",
       "    }\n",
       "\n",
       "    .dataframe thead th {\n",
       "        text-align: right;\n",
       "    }\n",
       "</style>\n",
       "<table border=\"1\" class=\"dataframe\">\n",
       "  <thead>\n",
       "    <tr style=\"text-align: right;\">\n",
       "      <th></th>\n",
       "      <th>637846</th>\n",
       "      <th>54247</th>\n",
       "      <th>911657</th>\n",
       "      <th>53714</th>\n",
       "      <th>330516</th>\n",
       "    </tr>\n",
       "  </thead>\n",
       "  <tbody>\n",
       "    <tr>\n",
       "      <th>store</th>\n",
       "      <td>852</td>\n",
       "      <td>728</td>\n",
       "      <td>373</td>\n",
       "      <td>195</td>\n",
       "      <td>765</td>\n",
       "    </tr>\n",
       "    <tr>\n",
       "      <th>day_of_week</th>\n",
       "      <td>6</td>\n",
       "      <td>6</td>\n",
       "      <td>5</td>\n",
       "      <td>6</td>\n",
       "      <td>1</td>\n",
       "    </tr>\n",
       "    <tr>\n",
       "      <th>date</th>\n",
       "      <td>2013-12-07 00:00:00</td>\n",
       "      <td>2015-06-13 00:00:00</td>\n",
       "      <td>2013-04-05 00:00:00</td>\n",
       "      <td>2015-06-13 00:00:00</td>\n",
       "      <td>2014-09-22 00:00:00</td>\n",
       "    </tr>\n",
       "    <tr>\n",
       "      <th>sales</th>\n",
       "      <td>5361</td>\n",
       "      <td>5353</td>\n",
       "      <td>4329</td>\n",
       "      <td>10454</td>\n",
       "      <td>8383</td>\n",
       "    </tr>\n",
       "    <tr>\n",
       "      <th>customers</th>\n",
       "      <td>641</td>\n",
       "      <td>530</td>\n",
       "      <td>319</td>\n",
       "      <td>1231</td>\n",
       "      <td>789</td>\n",
       "    </tr>\n",
       "    <tr>\n",
       "      <th>open</th>\n",
       "      <td>1</td>\n",
       "      <td>1</td>\n",
       "      <td>1</td>\n",
       "      <td>1</td>\n",
       "      <td>1</td>\n",
       "    </tr>\n",
       "    <tr>\n",
       "      <th>promo</th>\n",
       "      <td>0</td>\n",
       "      <td>0</td>\n",
       "      <td>0</td>\n",
       "      <td>0</td>\n",
       "      <td>0</td>\n",
       "    </tr>\n",
       "    <tr>\n",
       "      <th>state_holiday</th>\n",
       "      <td>regular_day</td>\n",
       "      <td>regular_day</td>\n",
       "      <td>regular_day</td>\n",
       "      <td>regular_day</td>\n",
       "      <td>regular_day</td>\n",
       "    </tr>\n",
       "    <tr>\n",
       "      <th>school_holiday</th>\n",
       "      <td>0</td>\n",
       "      <td>0</td>\n",
       "      <td>1</td>\n",
       "      <td>0</td>\n",
       "      <td>0</td>\n",
       "    </tr>\n",
       "    <tr>\n",
       "      <th>store_type</th>\n",
       "      <td>c</td>\n",
       "      <td>d</td>\n",
       "      <td>d</td>\n",
       "      <td>a</td>\n",
       "      <td>a</td>\n",
       "    </tr>\n",
       "    <tr>\n",
       "      <th>assortment</th>\n",
       "      <td>basic</td>\n",
       "      <td>basic</td>\n",
       "      <td>extended</td>\n",
       "      <td>extended</td>\n",
       "      <td>extended</td>\n",
       "    </tr>\n",
       "    <tr>\n",
       "      <th>competition_distance</th>\n",
       "      <td>940.0</td>\n",
       "      <td>13990.0</td>\n",
       "      <td>11120.0</td>\n",
       "      <td>220.0</td>\n",
       "      <td>25430.0</td>\n",
       "    </tr>\n",
       "    <tr>\n",
       "      <th>competition_open_since_month</th>\n",
       "      <td>4</td>\n",
       "      <td>6</td>\n",
       "      <td>4</td>\n",
       "      <td>6</td>\n",
       "      <td>5</td>\n",
       "    </tr>\n",
       "    <tr>\n",
       "      <th>competition_open_since_year</th>\n",
       "      <td>2004</td>\n",
       "      <td>2015</td>\n",
       "      <td>2013</td>\n",
       "      <td>2015</td>\n",
       "      <td>1999</td>\n",
       "    </tr>\n",
       "    <tr>\n",
       "      <th>promo2</th>\n",
       "      <td>1</td>\n",
       "      <td>1</td>\n",
       "      <td>1</td>\n",
       "      <td>0</td>\n",
       "      <td>1</td>\n",
       "    </tr>\n",
       "    <tr>\n",
       "      <th>promo2_since_week</th>\n",
       "      <td>14</td>\n",
       "      <td>14</td>\n",
       "      <td>22</td>\n",
       "      <td>24</td>\n",
       "      <td>37</td>\n",
       "    </tr>\n",
       "    <tr>\n",
       "      <th>promo2_since_year</th>\n",
       "      <td>2011</td>\n",
       "      <td>2011</td>\n",
       "      <td>2012</td>\n",
       "      <td>2015</td>\n",
       "      <td>2009</td>\n",
       "    </tr>\n",
       "    <tr>\n",
       "      <th>promo_interval</th>\n",
       "      <td>Jan,Apr,Jul,Oct</td>\n",
       "      <td>Jan,Apr,Jul,Oct</td>\n",
       "      <td>Jan,Apr,Jul,Oct</td>\n",
       "      <td>0</td>\n",
       "      <td>Jan,Apr,Jul,Oct</td>\n",
       "    </tr>\n",
       "    <tr>\n",
       "      <th>month_map</th>\n",
       "      <td>Dec</td>\n",
       "      <td>Jun</td>\n",
       "      <td>Apr</td>\n",
       "      <td>Jun</td>\n",
       "      <td>Sep</td>\n",
       "    </tr>\n",
       "    <tr>\n",
       "      <th>is_promo</th>\n",
       "      <td>0</td>\n",
       "      <td>0</td>\n",
       "      <td>1</td>\n",
       "      <td>0</td>\n",
       "      <td>0</td>\n",
       "    </tr>\n",
       "    <tr>\n",
       "      <th>year</th>\n",
       "      <td>2013</td>\n",
       "      <td>2015</td>\n",
       "      <td>2013</td>\n",
       "      <td>2015</td>\n",
       "      <td>2014</td>\n",
       "    </tr>\n",
       "    <tr>\n",
       "      <th>month</th>\n",
       "      <td>12</td>\n",
       "      <td>6</td>\n",
       "      <td>4</td>\n",
       "      <td>6</td>\n",
       "      <td>9</td>\n",
       "    </tr>\n",
       "    <tr>\n",
       "      <th>day</th>\n",
       "      <td>7</td>\n",
       "      <td>13</td>\n",
       "      <td>5</td>\n",
       "      <td>13</td>\n",
       "      <td>22</td>\n",
       "    </tr>\n",
       "    <tr>\n",
       "      <th>week_of_year</th>\n",
       "      <td>49</td>\n",
       "      <td>24</td>\n",
       "      <td>14</td>\n",
       "      <td>24</td>\n",
       "      <td>39</td>\n",
       "    </tr>\n",
       "    <tr>\n",
       "      <th>year_week</th>\n",
       "      <td>2013-48</td>\n",
       "      <td>2015-23</td>\n",
       "      <td>2013-13</td>\n",
       "      <td>2015-23</td>\n",
       "      <td>2014-38</td>\n",
       "    </tr>\n",
       "    <tr>\n",
       "      <th>competition_since</th>\n",
       "      <td>2004-04-01 00:00:00</td>\n",
       "      <td>2015-06-01 00:00:00</td>\n",
       "      <td>2013-04-01 00:00:00</td>\n",
       "      <td>2015-06-01 00:00:00</td>\n",
       "      <td>1999-05-01 00:00:00</td>\n",
       "    </tr>\n",
       "    <tr>\n",
       "      <th>competition_time_month</th>\n",
       "      <td>117</td>\n",
       "      <td>0</td>\n",
       "      <td>0</td>\n",
       "      <td>0</td>\n",
       "      <td>187</td>\n",
       "    </tr>\n",
       "    <tr>\n",
       "      <th>promo_since</th>\n",
       "      <td>2011-03-28 00:00:00</td>\n",
       "      <td>2011-03-28 00:00:00</td>\n",
       "      <td>2012-05-21 00:00:00</td>\n",
       "      <td>2015-06-08 00:00:00</td>\n",
       "      <td>2009-09-07 00:00:00</td>\n",
       "    </tr>\n",
       "    <tr>\n",
       "      <th>promo_time_week</th>\n",
       "      <td>140</td>\n",
       "      <td>219</td>\n",
       "      <td>45</td>\n",
       "      <td>0</td>\n",
       "      <td>263</td>\n",
       "    </tr>\n",
       "  </tbody>\n",
       "</table>\n",
       "</div>"
      ],
      "text/plain": [
       "                                           637846               54247                911657               53714                330516\n",
       "store                                         852                  728                  373                  195                  765\n",
       "day_of_week                                     6                    6                    5                    6                    1\n",
       "date                          2013-12-07 00:00:00  2015-06-13 00:00:00  2013-04-05 00:00:00  2015-06-13 00:00:00  2014-09-22 00:00:00\n",
       "sales                                        5361                 5353                 4329                10454                 8383\n",
       "customers                                     641                  530                  319                 1231                  789\n",
       "open                                            1                    1                    1                    1                    1\n",
       "promo                                           0                    0                    0                    0                    0\n",
       "state_holiday                         regular_day          regular_day          regular_day          regular_day          regular_day\n",
       "school_holiday                                  0                    0                    1                    0                    0\n",
       "store_type                                      c                    d                    d                    a                    a\n",
       "assortment                                  basic                basic             extended             extended             extended\n",
       "competition_distance                        940.0              13990.0              11120.0                220.0              25430.0\n",
       "competition_open_since_month                    4                    6                    4                    6                    5\n",
       "competition_open_since_year                  2004                 2015                 2013                 2015                 1999\n",
       "promo2                                          1                    1                    1                    0                    1\n",
       "promo2_since_week                              14                   14                   22                   24                   37\n",
       "promo2_since_year                            2011                 2011                 2012                 2015                 2009\n",
       "promo_interval                    Jan,Apr,Jul,Oct      Jan,Apr,Jul,Oct      Jan,Apr,Jul,Oct                    0      Jan,Apr,Jul,Oct\n",
       "month_map                                     Dec                  Jun                  Apr                  Jun                  Sep\n",
       "is_promo                                        0                    0                    1                    0                    0\n",
       "year                                         2013                 2015                 2013                 2015                 2014\n",
       "month                                          12                    6                    4                    6                    9\n",
       "day                                             7                   13                    5                   13                   22\n",
       "week_of_year                                   49                   24                   14                   24                   39\n",
       "year_week                                 2013-48              2015-23              2013-13              2015-23              2014-38\n",
       "competition_since             2004-04-01 00:00:00  2015-06-01 00:00:00  2013-04-01 00:00:00  2015-06-01 00:00:00  1999-05-01 00:00:00\n",
       "competition_time_month                        117                    0                    0                    0                  187\n",
       "promo_since                   2011-03-28 00:00:00  2011-03-28 00:00:00  2012-05-21 00:00:00  2015-06-08 00:00:00  2009-09-07 00:00:00\n",
       "promo_time_week                               140                  219                   45                    0                  263"
      ]
     },
     "execution_count": 53,
     "metadata": {},
     "output_type": "execute_result"
    }
   ],
   "source": [
    "df2.sample(5).T"
   ]
  },
  {
   "cell_type": "markdown",
   "id": "0d2fadf4-15f0-493f-86e8-76ff6910d991",
   "metadata": {},
   "source": [
    "# Filtragem de Variáveis"
   ]
  },
  {
   "cell_type": "markdown",
   "id": "76ff903c-e21e-454b-9cc1-e6991f449eff",
   "metadata": {},
   "source": [
    "As restrições de negócios define a filtragem de variáveis.\n",
    "\n",
    "**FILTRAGEM DE VARIÁVEIS VS. SELEÇÃO DE VARIÁVEIS**\n",
    "\n",
    "- **FILTRAGEM DE VARIÁVEIS:** são restrições de acordo com o negócio. Considerar apenas variáveis que estarão no momento da predição ou treinamento do modelo. Excluir variáveis que não estarão disponíveis no momento da predição.\n",
    "\n",
    "- **SELEÇÃO DE VARIÁVEIS:** seleção das variáveis mais importantes para o modelo."
   ]
  },
  {
   "cell_type": "code",
   "execution_count": null,
   "id": "842a9ba9-626d-4563-9f87-1492269e1c8c",
   "metadata": {},
   "outputs": [],
   "source": [
    "df3 = df2.copy()"
   ]
  },
  {
   "cell_type": "markdown",
   "id": "1947b1d3-5c5f-45b8-a224-353adb42014b",
   "metadata": {},
   "source": [
    "## Filtragem das Linhas"
   ]
  },
  {
   "cell_type": "code",
   "execution_count": null,
   "id": "ef08c89b-de2c-4704-8748-8f0dfbe1ce14",
   "metadata": {},
   "outputs": [],
   "source": []
  },
  {
   "cell_type": "markdown",
   "id": "5d89a80f-6b08-42fd-aec7-1c7f05d58b6b",
   "metadata": {},
   "source": [
    "## Seleção das Colunas"
   ]
  },
  {
   "cell_type": "code",
   "execution_count": null,
   "id": "531bbb2c-d619-4303-9f18-f2c7f0d88ce2",
   "metadata": {},
   "outputs": [],
   "source": []
  },
  {
   "cell_type": "code",
   "execution_count": null,
   "id": "8beaa698-a133-4cec-aef9-2e3cb449ef9d",
   "metadata": {},
   "outputs": [],
   "source": []
  }
 ],
 "metadata": {
  "kernelspec": {
   "display_name": "Python 3 (ipykernel)",
   "language": "python",
   "name": "python3"
  },
  "language_info": {
   "codemirror_mode": {
    "name": "ipython",
    "version": 3
   },
   "file_extension": ".py",
   "mimetype": "text/x-python",
   "name": "python",
   "nbconvert_exporter": "python",
   "pygments_lexer": "ipython3",
   "version": "3.10.0"
  },
  "toc": {
   "base_numbering": 1,
   "nav_menu": {},
   "number_sections": true,
   "sideBar": true,
   "skip_h1_title": false,
   "title_cell": "Table of Contents",
   "title_sidebar": "Contents",
   "toc_cell": false,
   "toc_position": {},
   "toc_section_display": true,
   "toc_window_display": false
  },
  "varInspector": {
   "cols": {
    "lenName": 16,
    "lenType": 16,
    "lenVar": 40
   },
   "kernels_config": {
    "python": {
     "delete_cmd_postfix": "",
     "delete_cmd_prefix": "del ",
     "library": "var_list.py",
     "varRefreshCmd": "print(var_dic_list())"
    },
    "r": {
     "delete_cmd_postfix": ") ",
     "delete_cmd_prefix": "rm(",
     "library": "var_list.r",
     "varRefreshCmd": "cat(var_dic_list()) "
    }
   },
   "types_to_exclude": [
    "module",
    "function",
    "builtin_function_or_method",
    "instance",
    "_Feature"
   ],
   "window_display": false
  }
 },
 "nbformat": 4,
 "nbformat_minor": 5
}
